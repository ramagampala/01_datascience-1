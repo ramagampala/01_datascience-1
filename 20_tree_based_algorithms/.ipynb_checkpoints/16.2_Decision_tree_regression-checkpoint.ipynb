{
 "cells": [
  {
   "cell_type": "code",
   "execution_count": 1,
   "metadata": {
    "collapsed": true
   },
   "outputs": [],
   "source": [
    "import pandas as pd\n",
    "import numpy as np\n",
    "import matplotlib.pyplot as plt\n",
    "% matplotlib inline"
   ]
  },
  {
   "cell_type": "code",
   "execution_count": 39,
   "metadata": {
    "collapsed": true
   },
   "outputs": [],
   "source": [
    "hitters_data = pd.read_csv(\"../data/hitters_clean.csv\")"
   ]
  },
  {
   "cell_type": "code",
   "execution_count": 47,
   "metadata": {},
   "outputs": [
    {
     "data": {
      "text/html": [
       "<div>\n",
       "<table border=\"1\" class=\"dataframe\">\n",
       "  <thead>\n",
       "    <tr style=\"text-align: right;\">\n",
       "      <th></th>\n",
       "      <th>Name</th>\n",
       "      <th>AtBat</th>\n",
       "      <th>Hits</th>\n",
       "      <th>HmRun</th>\n",
       "      <th>Runs</th>\n",
       "      <th>RBI</th>\n",
       "      <th>Walks</th>\n",
       "      <th>Years</th>\n",
       "      <th>CAtBat</th>\n",
       "      <th>CHits</th>\n",
       "      <th>CHmRun</th>\n",
       "      <th>CRuns</th>\n",
       "      <th>CRBI</th>\n",
       "      <th>CWalks</th>\n",
       "      <th>PutOuts</th>\n",
       "      <th>Assists</th>\n",
       "      <th>Errors</th>\n",
       "      <th>Salary</th>\n",
       "    </tr>\n",
       "  </thead>\n",
       "  <tbody>\n",
       "    <tr>\n",
       "      <th>0</th>\n",
       "      <td>-Alan Ashby</td>\n",
       "      <td>315</td>\n",
       "      <td>81</td>\n",
       "      <td>7</td>\n",
       "      <td>24</td>\n",
       "      <td>38</td>\n",
       "      <td>39</td>\n",
       "      <td>14</td>\n",
       "      <td>3449</td>\n",
       "      <td>835</td>\n",
       "      <td>69</td>\n",
       "      <td>321</td>\n",
       "      <td>414</td>\n",
       "      <td>375</td>\n",
       "      <td>632</td>\n",
       "      <td>43</td>\n",
       "      <td>10</td>\n",
       "      <td>475.0</td>\n",
       "    </tr>\n",
       "    <tr>\n",
       "      <th>1</th>\n",
       "      <td>-Alvin Davis</td>\n",
       "      <td>479</td>\n",
       "      <td>130</td>\n",
       "      <td>18</td>\n",
       "      <td>66</td>\n",
       "      <td>72</td>\n",
       "      <td>76</td>\n",
       "      <td>3</td>\n",
       "      <td>1624</td>\n",
       "      <td>457</td>\n",
       "      <td>63</td>\n",
       "      <td>224</td>\n",
       "      <td>266</td>\n",
       "      <td>263</td>\n",
       "      <td>880</td>\n",
       "      <td>82</td>\n",
       "      <td>14</td>\n",
       "      <td>480.0</td>\n",
       "    </tr>\n",
       "    <tr>\n",
       "      <th>2</th>\n",
       "      <td>-Andre Dawson</td>\n",
       "      <td>496</td>\n",
       "      <td>141</td>\n",
       "      <td>20</td>\n",
       "      <td>65</td>\n",
       "      <td>78</td>\n",
       "      <td>37</td>\n",
       "      <td>11</td>\n",
       "      <td>5628</td>\n",
       "      <td>1575</td>\n",
       "      <td>225</td>\n",
       "      <td>828</td>\n",
       "      <td>838</td>\n",
       "      <td>354</td>\n",
       "      <td>200</td>\n",
       "      <td>11</td>\n",
       "      <td>3</td>\n",
       "      <td>500.0</td>\n",
       "    </tr>\n",
       "    <tr>\n",
       "      <th>3</th>\n",
       "      <td>-Andres Galarraga</td>\n",
       "      <td>321</td>\n",
       "      <td>87</td>\n",
       "      <td>10</td>\n",
       "      <td>39</td>\n",
       "      <td>42</td>\n",
       "      <td>30</td>\n",
       "      <td>2</td>\n",
       "      <td>396</td>\n",
       "      <td>101</td>\n",
       "      <td>12</td>\n",
       "      <td>48</td>\n",
       "      <td>46</td>\n",
       "      <td>33</td>\n",
       "      <td>805</td>\n",
       "      <td>40</td>\n",
       "      <td>4</td>\n",
       "      <td>91.5</td>\n",
       "    </tr>\n",
       "    <tr>\n",
       "      <th>4</th>\n",
       "      <td>-Alfredo Griffin</td>\n",
       "      <td>594</td>\n",
       "      <td>169</td>\n",
       "      <td>4</td>\n",
       "      <td>74</td>\n",
       "      <td>51</td>\n",
       "      <td>35</td>\n",
       "      <td>11</td>\n",
       "      <td>4408</td>\n",
       "      <td>1133</td>\n",
       "      <td>19</td>\n",
       "      <td>501</td>\n",
       "      <td>336</td>\n",
       "      <td>194</td>\n",
       "      <td>282</td>\n",
       "      <td>421</td>\n",
       "      <td>25</td>\n",
       "      <td>750.0</td>\n",
       "    </tr>\n",
       "  </tbody>\n",
       "</table>\n",
       "</div>"
      ],
      "text/plain": [
       "                Name  AtBat  Hits  HmRun  Runs  RBI  Walks  Years  CAtBat  \\\n",
       "0        -Alan Ashby    315    81      7    24   38     39     14    3449   \n",
       "1       -Alvin Davis    479   130     18    66   72     76      3    1624   \n",
       "2      -Andre Dawson    496   141     20    65   78     37     11    5628   \n",
       "3  -Andres Galarraga    321    87     10    39   42     30      2     396   \n",
       "4   -Alfredo Griffin    594   169      4    74   51     35     11    4408   \n",
       "\n",
       "   CHits  CHmRun  CRuns  CRBI  CWalks  PutOuts  Assists  Errors  Salary  \n",
       "0    835      69    321   414     375      632       43      10   475.0  \n",
       "1    457      63    224   266     263      880       82      14   480.0  \n",
       "2   1575     225    828   838     354      200       11       3   500.0  \n",
       "3    101      12     48    46      33      805       40       4    91.5  \n",
       "4   1133      19    501   336     194      282      421      25   750.0  "
      ]
     },
     "execution_count": 47,
     "metadata": {},
     "output_type": "execute_result"
    }
   ],
   "source": [
    "hitters_data.head()"
   ]
  },
  {
   "cell_type": "markdown",
   "metadata": {},
   "source": [
    "### Predicting Baseball Players’ Salaries Using Regression Trees. For simplicity we will take  'Hits', 'Years' features and predict 'Salary' of a baseball player."
   ]
  },
  {
   "cell_type": "code",
   "execution_count": 48,
   "metadata": {},
   "outputs": [
    {
     "data": {
      "text/html": [
       "<div>\n",
       "<table border=\"1\" class=\"dataframe\">\n",
       "  <thead>\n",
       "    <tr style=\"text-align: right;\">\n",
       "      <th></th>\n",
       "      <th>Hits</th>\n",
       "      <th>Runs</th>\n",
       "      <th>Years</th>\n",
       "      <th>Salary</th>\n",
       "    </tr>\n",
       "  </thead>\n",
       "  <tbody>\n",
       "    <tr>\n",
       "      <th>0</th>\n",
       "      <td>81</td>\n",
       "      <td>24</td>\n",
       "      <td>14</td>\n",
       "      <td>475.000</td>\n",
       "    </tr>\n",
       "    <tr>\n",
       "      <th>1</th>\n",
       "      <td>130</td>\n",
       "      <td>66</td>\n",
       "      <td>3</td>\n",
       "      <td>480.000</td>\n",
       "    </tr>\n",
       "    <tr>\n",
       "      <th>2</th>\n",
       "      <td>141</td>\n",
       "      <td>65</td>\n",
       "      <td>11</td>\n",
       "      <td>500.000</td>\n",
       "    </tr>\n",
       "    <tr>\n",
       "      <th>3</th>\n",
       "      <td>87</td>\n",
       "      <td>39</td>\n",
       "      <td>2</td>\n",
       "      <td>91.500</td>\n",
       "    </tr>\n",
       "    <tr>\n",
       "      <th>4</th>\n",
       "      <td>169</td>\n",
       "      <td>74</td>\n",
       "      <td>11</td>\n",
       "      <td>750.000</td>\n",
       "    </tr>\n",
       "    <tr>\n",
       "      <th>5</th>\n",
       "      <td>37</td>\n",
       "      <td>23</td>\n",
       "      <td>2</td>\n",
       "      <td>70.000</td>\n",
       "    </tr>\n",
       "    <tr>\n",
       "      <th>6</th>\n",
       "      <td>73</td>\n",
       "      <td>24</td>\n",
       "      <td>3</td>\n",
       "      <td>100.000</td>\n",
       "    </tr>\n",
       "    <tr>\n",
       "      <th>7</th>\n",
       "      <td>81</td>\n",
       "      <td>26</td>\n",
       "      <td>2</td>\n",
       "      <td>75.000</td>\n",
       "    </tr>\n",
       "    <tr>\n",
       "      <th>8</th>\n",
       "      <td>92</td>\n",
       "      <td>49</td>\n",
       "      <td>13</td>\n",
       "      <td>1100.000</td>\n",
       "    </tr>\n",
       "    <tr>\n",
       "      <th>9</th>\n",
       "      <td>159</td>\n",
       "      <td>107</td>\n",
       "      <td>10</td>\n",
       "      <td>517.143</td>\n",
       "    </tr>\n",
       "  </tbody>\n",
       "</table>\n",
       "</div>"
      ],
      "text/plain": [
       "   Hits  Runs  Years    Salary\n",
       "0    81    24     14   475.000\n",
       "1   130    66      3   480.000\n",
       "2   141    65     11   500.000\n",
       "3    87    39      2    91.500\n",
       "4   169    74     11   750.000\n",
       "5    37    23      2    70.000\n",
       "6    73    24      3   100.000\n",
       "7    81    26      2    75.000\n",
       "8    92    49     13  1100.000\n",
       "9   159   107     10   517.143"
      ]
     },
     "execution_count": 48,
     "metadata": {},
     "output_type": "execute_result"
    }
   ],
   "source": [
    "hitters_data[['Hits', 'Years', 'Salary']].head()"
   ]
  },
  {
   "cell_type": "code",
   "execution_count": 50,
   "metadata": {},
   "outputs": [
    {
     "data": {
      "text/html": [
       "<div>\n",
       "<table border=\"1\" class=\"dataframe\">\n",
       "  <thead>\n",
       "    <tr style=\"text-align: right;\">\n",
       "      <th></th>\n",
       "      <th>Hits</th>\n",
       "      <th>Years</th>\n",
       "      <th>Salary</th>\n",
       "    </tr>\n",
       "  </thead>\n",
       "  <tbody>\n",
       "    <tr>\n",
       "      <th>count</th>\n",
       "      <td>263.000000</td>\n",
       "      <td>263.000000</td>\n",
       "      <td>263.000000</td>\n",
       "    </tr>\n",
       "    <tr>\n",
       "      <th>mean</th>\n",
       "      <td>107.828897</td>\n",
       "      <td>7.311787</td>\n",
       "      <td>535.925882</td>\n",
       "    </tr>\n",
       "    <tr>\n",
       "      <th>std</th>\n",
       "      <td>45.125326</td>\n",
       "      <td>4.793616</td>\n",
       "      <td>451.118681</td>\n",
       "    </tr>\n",
       "    <tr>\n",
       "      <th>min</th>\n",
       "      <td>1.000000</td>\n",
       "      <td>1.000000</td>\n",
       "      <td>67.500000</td>\n",
       "    </tr>\n",
       "    <tr>\n",
       "      <th>25%</th>\n",
       "      <td>71.500000</td>\n",
       "      <td>4.000000</td>\n",
       "      <td>190.000000</td>\n",
       "    </tr>\n",
       "    <tr>\n",
       "      <th>50%</th>\n",
       "      <td>103.000000</td>\n",
       "      <td>6.000000</td>\n",
       "      <td>425.000000</td>\n",
       "    </tr>\n",
       "    <tr>\n",
       "      <th>75%</th>\n",
       "      <td>141.500000</td>\n",
       "      <td>10.000000</td>\n",
       "      <td>750.000000</td>\n",
       "    </tr>\n",
       "    <tr>\n",
       "      <th>max</th>\n",
       "      <td>238.000000</td>\n",
       "      <td>24.000000</td>\n",
       "      <td>2460.000000</td>\n",
       "    </tr>\n",
       "  </tbody>\n",
       "</table>\n",
       "</div>"
      ],
      "text/plain": [
       "             Hits       Years       Salary\n",
       "count  263.000000  263.000000   263.000000\n",
       "mean   107.828897    7.311787   535.925882\n",
       "std     45.125326    4.793616   451.118681\n",
       "min      1.000000    1.000000    67.500000\n",
       "25%     71.500000    4.000000   190.000000\n",
       "50%    103.000000    6.000000   425.000000\n",
       "75%    141.500000   10.000000   750.000000\n",
       "max    238.000000   24.000000  2460.000000"
      ]
     },
     "execution_count": 50,
     "metadata": {},
     "output_type": "execute_result"
    }
   ],
   "source": [
    "hitters_data[['Hits', 'Years', 'Salary']].describe()"
   ]
  },
  {
   "cell_type": "code",
   "execution_count": 54,
   "metadata": {},
   "outputs": [
    {
     "data": {
      "text/plain": [
       "225.83147777777776"
      ]
     },
     "execution_count": 54,
     "metadata": {},
     "output_type": "execute_result"
    }
   ],
   "source": [
    "hitters_data[hitters_data.Years < 4.5]['Salary'].mean()"
   ]
  },
  {
   "cell_type": "code",
   "execution_count": 73,
   "metadata": {},
   "outputs": [
    {
     "data": {
      "text/plain": [
       "464.91667777777781"
      ]
     },
     "execution_count": 73,
     "metadata": {},
     "output_type": "execute_result"
    }
   ],
   "source": [
    "hitters_data[(hitters_data.Years >= 4.5) & (hitters_data.Hits < 117.5)]['Salary'].mean()"
   ]
  },
  {
   "cell_type": "code",
   "execution_count": 74,
   "metadata": {},
   "outputs": [
    {
     "data": {
      "text/plain": [
       "949.17075903614466"
      ]
     },
     "execution_count": 74,
     "metadata": {},
     "output_type": "execute_result"
    }
   ],
   "source": [
    "hitters_data[(hitters_data.Years >= 4.5) & (hitters_data.Hits >= 117.5)]['Salary'].mean()"
   ]
  },
  {
   "cell_type": "markdown",
   "metadata": {},
   "source": [
    "### We can represent a simple tree model (for interpretation purpose) as shown below.\n",
    "<img height=\"400\" width=\"550\" src=\"./img/regression/sample_tree.png\">\n",
    "\n",
    "    \n",
    "  * **The model will predict salary of player based on below conditions.**\n",
    "    * If \"years of experience < 4.5, Predicted Salary = **average salaries of players with \"years of experience < 4.5\". **\n",
    "    * If expreience >= 4.5 years then\n",
    "      * If Hits < 117.5, Predicted Salary = **average salaries of players with \"years of experience >= 4.5\" AND \"Hits < 117.5\".**\n",
    "      * If Hits >= 117.5, Predicted Salary = **average salaries of players with \"years of experience >= 4.5\" AND \"Hits >= 117.5\".**\n",
    "      \n",
    "### The algorithm consists of a series of splitting rules, starting at the top of the tree. One can interpret these splitting rules as shown below (Denoted with R1, R2 and R3).\n",
    "<img height=\"400\" width=\"400\" src=\"./img/regression/sample_tree_regions.png\">\n",
    "\n",
    "  * These three regions can be written as (the regions R 1 , R 2 , and R 3 are known as **terminal nodes** or **leaves** of the tree) \n",
    "    * R1 ={X | Years<4.5}\n",
    "    * R2 ={X | Years>=4.5, Hits<117.5}\n",
    "    * R3 ={X | Years>=4.5, Hits>=117.5}\n",
    "    \n",
    "  * The points along the tree where the predictor space is split are referred to as **internal nodes**.(the two internal\n",
    "nodes are \"Years<4.5\" and \"Hits<117.5\")\n",
    "\n",
    "  \n",
    "### Example tree representation &  A perspective plot of the prediction surface corresponding to the tree.\n",
    "\n",
    "<img height=\"500\" width=\"700\" src=\"./img/regression/prediction_surface.png\">\n"
   ]
  },
  {
   "cell_type": "markdown",
   "metadata": {},
   "source": [
    "## We now discuss the process of building a regression tree. Roughly speaking, there are two steps.\n",
    "  1. We divide the predictor space - that is, the set of possible values (samples) for $ X_1 , X_2 , . . . , X_p $ —into J distinct and non-overlapping regions, $ R_1 , R_2 , . . . , R_J $\n",
    "  2. For every observation that falls into the region $ R_j $, we make the same prediction, which is simply the mean of the response values for the training observations in $ R_j $ .\n",
    "    * If we take above example we have three regions, $ R_1, R_2, R_3 $. All the samples x fall in $ R_1 $ will be predicted as 225.83 K salary, in $ R_2 $ will be predicted as 465.92 K salary, in $ R_1 $ will be predicted as 949.17 K salary,.  \n",
    "    \n",
    "### How to select the best predictor to split, and the cut point (the value of 4.5 in years < 4.5) for the predictor -  at each node  ?\n",
    "  * We take a **top-down, greedy** approach that is known as recursive binary splitting.\n",
    "  * The approach is **top-down** because it begins at the top of the tree (at which point all observations belong to a single region) and then successively splits the predictor space; each split is indicated via two new branches further down on the tree.\n",
    "  * It is **greedy** because at each step of the tree-building process, the best split is made at that particular step, rather than looking ahead and picking a split that will lead to a better tree in some future step.\n",
    "\n",
    "### Recursive Binary Split: \n",
    "  * The goal is to find boxes $ R_1, R_2, . . . , R_J $ that minimize the RSS, given by \n",
    "  $$ RSS = \\sum_{j=1}^J \\sum_{i \\space \\epsilon \\space R_j} (y_i - y_{R_j}^|) \\space , $$\n",
    "    * Where ** $ y_{R_j}^| $ is the mean response for the training observations within the $ j_{th} $ box **.\n",
    "  * We consider all predictors $ X_1, X_2, . . . ,X_p $, and all possible values of the cutpoint \"s\" for each of the predictors, and then choose the predictor and cutpoint such that the resulting tree has the lowest RSS.\n",
    "  $$ R_1 (j,s) = \\{ X \\space | \\space X_j < s \\} \\space and \\space R_2 (j,s) = \\{ X \\space | \\space X_j >= s \\}, $$\n",
    "  and we **seek** the value of **j** and **s** that minimize the equation\n",
    "  $$ \\sum_{i \\space :  \\space x_i \\space \\epsilon \\space R_1 (j,s)} (y_i - y_{R_1}^|) \\space + \\space \\sum_{i \\space :  \\space x_i \\space \\epsilon \\space R_2 (j,s)} (y_i - y_{R_2}^|) \\space, $$\n",
    "  * We repeat the process, looking for the best predictor and best cutpoint in order to split the data further so as to minimize the RSS within each of the resulting regions. However, this time, instead of splitting the entire predictor space, we split one of the two previously identified regions.We now have three regions. Again, we look to split one of these three regions further, so as to minimize the RSS. The process continues until a stopping criterion is reached; for instance, we may continue until no region contains more than five observations.\n"
   ]
  }
 ],
 "metadata": {
  "kernelspec": {
   "display_name": "Python 3",
   "language": "python",
   "name": "python3"
  },
  "language_info": {
   "codemirror_mode": {
    "name": "ipython",
    "version": 3
   },
   "file_extension": ".py",
   "mimetype": "text/x-python",
   "name": "python",
   "nbconvert_exporter": "python",
   "pygments_lexer": "ipython3",
   "version": "3.5.3"
  }
 },
 "nbformat": 4,
 "nbformat_minor": 2
}
