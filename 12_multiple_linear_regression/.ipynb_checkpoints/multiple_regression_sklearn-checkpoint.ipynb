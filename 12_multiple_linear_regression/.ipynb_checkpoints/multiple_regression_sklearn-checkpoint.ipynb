{
 "cells": [
  {
   "cell_type": "code",
   "execution_count": 4,
   "metadata": {
    "collapsed": true
   },
   "outputs": [],
   "source": [
    "import pandas as pd\n",
    "import numpy as np\n",
    "import matplotlib.pyplot as plt\n",
    "% matplotlib inline\n",
    "from sklearn.base import BaseEstimator, TransformerMixin\n",
    "from sklearn.pipeline import Pipeline"
   ]
  },
  {
   "cell_type": "code",
   "execution_count": 2,
   "metadata": {},
   "outputs": [
    {
     "data": {
      "text/plain": [
       "(1460, 81)"
      ]
     },
     "execution_count": 2,
     "metadata": {},
     "output_type": "execute_result"
    }
   ],
   "source": [
    "housing_data = pd.read_csv('../data/housing_price.csv')\n",
    "housing_data.shape"
   ]
  },
  {
   "cell_type": "markdown",
   "metadata": {},
   "source": [
    "### We have changed the sampling strategy from Stratified to Random sampling as the model is Overfiting the TRAIN set. Lets have a look at Random sample one first and then look at Stratified one."
   ]
  },
  {
   "cell_type": "code",
   "execution_count": 3,
   "metadata": {
    "collapsed": true
   },
   "outputs": [],
   "source": [
    "#from sklearn.model_selection import StratifiedShuffleSplit\n",
    "#split = StratifiedShuffleSplit(n_splits=1, test_size = 0.2, random_state=42)\n",
    "#for train_index, test_index in split.split(housing_data, housing_data['MSSubClass']):\n",
    "#    housing_train_set = housing_data.loc[train_index]\n",
    "#    housing_test_set = housing_data.loc[test_index]"
   ]
  },
  {
   "cell_type": "code",
   "execution_count": 4,
   "metadata": {},
   "outputs": [
    {
     "name": "stdout",
     "output_type": "stream",
     "text": [
      "1167\n",
      "293\n"
     ]
    }
   ],
   "source": [
    "# 80% of housing_data.shape[0] = 1168\n",
    "max_index = housing_data.shape[0] - 1\n",
    "numbers = max_index*80//100\n",
    "train_indexs = np.linspace(start=0, stop=max_index, num=numbers, dtype=int)\n",
    "test_indexs = [x for x in range(max_index) if x not in train_indexs]\n",
    "print(len(train_indexs))\n",
    "print(len(test_indexs))\n",
    "housing_train_set = housing_data.loc[train_indexs]\n",
    "housing_test_set = housing_data.loc[test_indexs]    "
   ]
  },
  {
   "cell_type": "code",
   "execution_count": 5,
   "metadata": {},
   "outputs": [
    {
     "data": {
      "text/plain": [
       "(1167, 81)"
      ]
     },
     "execution_count": 5,
     "metadata": {},
     "output_type": "execute_result"
    }
   ],
   "source": [
    "housing_train_set.shape"
   ]
  },
  {
   "cell_type": "code",
   "execution_count": 6,
   "metadata": {
    "collapsed": true
   },
   "outputs": [],
   "source": [
    "def getMissingDataFeatures(df):\n",
    "    ser_null_columns = df.isnull().any(axis=0)\n",
    "    lst_null_columns = [x for x in ser_null_columns.index if ser_null_columns[x]]\n",
    "    return lst_null_columns\n",
    "\n",
    "def getNullPercentage(df, feature):\n",
    "    null_count = len(df[df[feature].isnull()])\n",
    "    percent_of_nulls = null_count*100/len(df)\n",
    "    return null_count, percent_of_nulls\n",
    "\n",
    "def dropFeaturesWithNulls(df, lst_featrues, threshold=75):\n",
    "    for feature in lst_featrues:\n",
    "        null_count, percent_of_nulls = getNullPercentage(df, feature)\n",
    "#        print('Null count in {0} : {1}, Percent of Null: {2}'.format(feature, null_count, percent_of_nulls))\n",
    "        if(percent_of_nulls > threshold):\n",
    "#            print('Droping --- {}'.format(feature))\n",
    "            df.drop(feature, axis=1, inplace=True)\n",
    "    return df\n",
    "\n",
    "def getCatFeatures(df):\n",
    "    cat_features = df.select_dtypes(include=['object']).columns\n",
    "    return cat_features\n",
    "\n",
    "def getCatFeaturesWithNulls(df):\n",
    "    ser_null_columns = df[getCatFeatures(df)].isnull().any(axis=0)\n",
    "    lst_null_columns = [x for x in ser_null_columns.index if ser_null_columns[x]]\n",
    "    return lst_null_columns"
   ]
  },
  {
   "cell_type": "code",
   "execution_count": 7,
   "metadata": {
    "collapsed": true
   },
   "outputs": [],
   "source": [
    "def fillNAwithBlank(df, lst_features):\n",
    "    for feature in lst_features:\n",
    "        df[feature].fillna('', inplace=True)\n",
    "    return df"
   ]
  },
  {
   "cell_type": "code",
   "execution_count": 8,
   "metadata": {
    "collapsed": true
   },
   "outputs": [],
   "source": [
    "def formatCondition(lst_features):\n",
    "    copy_lst_features = lst_features.copy()\n",
    "    for i, v in enumerate(lst_features):\n",
    "        if(i == 0):\n",
    "            copy_lst_features.insert(i*2, 'not ')\n",
    "        else:    \n",
    "            copy_lst_features.insert(i*2, ' and not ')\n",
    "                      \n",
    "    #print(lst_features)\n",
    "    return ''.join(copy_lst_features)\n",
    "\n",
    "def conditionBasedImputation(row, condition, lst_features):\n",
    "    if condition:\n",
    "        for feature in lst_features:\n",
    "            row[feature] = 'NA'\n",
    "    return row"
   ]
  },
  {
   "cell_type": "code",
   "execution_count": 9,
   "metadata": {
    "collapsed": true
   },
   "outputs": [],
   "source": [
    "class FillNAandCleanUp(BaseEstimator, TransformerMixin):\n",
    "    def fit(self, X, y=None):\n",
    "        return self\n",
    "    def transform(self, X, y=None):\n",
    "        X.fillna(value=X.mean()[['LotFrontage']], inplace=True)\n",
    "        X['MasVnrArea'].fillna(value=0, inplace=True)\n",
    "        \n",
    "        #interpolation, we have to reindex the dataframe. Then interpolate, then drop(reset) the index.\n",
    "        X.index = X['YearBuilt']\n",
    "        X['GarageYrBlt'] = X['GarageYrBlt'].interpolate()\n",
    "        X.reset_index(drop=True, inplace=True)\n",
    "\n",
    "        X.rename(columns={'1stFlrSF':'FstFlrSF', '2ndFlrSF':'SecndFlrSF', '3SsnPorch':'ThreeSsnPorch'}, inplace=True)\n",
    "        X.BsmtCond.fillna('TA', inplace=True)\n",
    "\n",
    "        # Droping inconsistent data from the data frame.\n",
    "        X.drop(X[X['GarageYrBlt'] < X['YearBuilt']].index, inplace=True)\n",
    "\n",
    "        X.drop('MasVnrArea', axis=1, inplace=True)\n",
    "        X.drop('MasVnrType', axis=1, inplace=True)\n",
    "        X = dropFeaturesWithNulls(X, getCatFeaturesWithNulls(X))\n",
    "        \n",
    "        lst_featurs = ['BsmtQual', 'BsmtExposure', 'BsmtFinType1', 'BsmtFinType2', 'GarageType', 'GarageFinish', 'GarageQual', 'GarageCond']\n",
    "        X = fillNAwithBlank(X, lst_featurs)\n",
    "        \n",
    "        lst_features_bsmt = ['BsmtQual', 'BsmtExposure', 'BsmtFinType1', 'BsmtFinType2']\n",
    "        condition_bsmt = formatCondition(lst_features_bsmt)\n",
    "        X = X.apply(lambda row: conditionBasedImputation(row, condition_bsmt, lst_features_bsmt), axis=1)\n",
    "        \n",
    "        lst_features_garag = ['GarageType', 'GarageFinish', 'GarageQual', 'GarageCond']\n",
    "        condition_garag = formatCondition(lst_features_garag)\n",
    "        X = X.apply(lambda row: conditionBasedImputation(row, condition_garag, lst_features_garag), axis=1)\n",
    "\n",
    "        X.drop(X[X.Electrical.isnull()].index, inplace=True)\n",
    "        X.drop('FireplaceQu', axis = 1, inplace = True)\n",
    "        return X"
   ]
  },
  {
   "cell_type": "code",
   "execution_count": 10,
   "metadata": {
    "collapsed": true
   },
   "outputs": [],
   "source": [
    "fillna_cleanup_pipeline = Pipeline([\n",
    "         ('fillNAandCleanUp', FillNAandCleanUp())\n",
    "      ])"
   ]
  },
  {
   "cell_type": "code",
   "execution_count": 11,
   "metadata": {
    "collapsed": true
   },
   "outputs": [],
   "source": [
    "housing_train_set = fillna_cleanup_pipeline.fit_transform(housing_train_set)"
   ]
  },
  {
   "cell_type": "code",
   "execution_count": 12,
   "metadata": {
    "collapsed": true
   },
   "outputs": [],
   "source": [
    "class CatFeatureCleanUpAndEncode(BaseEstimator, TransformerMixin):\n",
    "    def __init__(self, lst_categories, feature, replace_val = None, lblEncode= None):\n",
    "        self.lst_categories = lst_categories\n",
    "        self.feature = feature\n",
    "        if replace_val:\n",
    "            self.replace_val = replace_val\n",
    "        else:\n",
    "            self.replace_val = 'OO_TH_ER'\n",
    "            \n",
    "        if lblEncode == None:\n",
    "            self.lblEncode = True\n",
    "        else:\n",
    "            self.lblEncode = False\n",
    "            \n",
    "    def fit(self, X, y=None):\n",
    "        return self\n",
    "    def transform(self, X, y=None):\n",
    "        ser_non_cat_values = X[~ X[self.feature].isin(self.lst_categories)][self.feature]\n",
    "        if(ser_non_cat_values.shape[0] > 0):\n",
    "            X.loc[X[~ X[self.feature].isin(self.lst_categories)].index, self.feature] = self.replace_val\n",
    "        \n",
    "        # Convert to categorical feature\n",
    "        X[self.feature] = pd.Categorical(X[self.feature], categories=self.lst_categories)\n",
    "        \n",
    "        if self.lblEncode:\n",
    "            # Do label encoding\n",
    "            X[self.feature] = X[self.feature].cat.codes\n",
    "        else:\n",
    "            # Do One-Hot encoding\n",
    "            X = pd.get_dummies(X, columns=[self.feature], prefix=[self.feature], drop_first=True)\n",
    "        return X"
   ]
  },
  {
   "cell_type": "code",
   "execution_count": 13,
   "metadata": {
    "collapsed": true
   },
   "outputs": [],
   "source": [
    "lst_MSZoning_cat = ['A','C','FV','I','RH','RL','RP','RM']\n",
    "lst_Street_cat = ['Grvl','Pave']\n",
    "lst_LotShape_cat = ['Reg','IR1','IR2','IR3']\n",
    "lst_LandContour_cat = ['Lvl','Bnk','HLS','Low']\n",
    "lst_Utilities_cat = ['AllPub','NoSewr','NoSeWa','ELO']\n",
    "lst_LandSlope_cat = ['Gtl','Mod','Sev']\n",
    "lst_Condition1_cat = ['Artery','Feedr','Norm','RRNn','RRAn','PosN','PosA','RRNe','RRAe']\n",
    "lst_Condition2_cat = ['Artery','Feedr','Norm','RRNn','RRAn','PosN','PosA','RRNe','RRAe']\n",
    "lst_BldgType_cat = ['1Fam','2FmCon','Duplx','TwnhsE','TwnhsI']\n",
    "lst_HouseStyle_cat = ['1Story','1.5Fin','1.5Unf','2Story','2.5Fin','2.5Unf','SFoyer','SLvl']\n",
    "lst_RoofStyle_cat = ['Flat','Gable','Gambrel','Hip','Mansard','Shed']\n",
    "lst_RoofMatl_cat = ['ClyTile','CompShg','Membran','Metal','Roll','Tar&Grv','WdShake','WdShngl']\n",
    "lst_Exterior1st_cat = ['AsbShng','AsphShn','BrkComm','BrkFace','CBlock','CemntBd','HdBoard','ImStucc','MetalSd','Other','Plywood',\\\n",
    "                       'PreCast','Stone','Stucco','VinylSd','Wd Sdng','WdShing']\n",
    "lst_Exterior2nd_cat = ['AsbShng','AsphShn','BrkComm','BrkFace','CBlock','CemntBd','HdBoard','ImStucc','MetalSd','Other','Plywood',\\\n",
    "                       'PreCast','Stone','Stucco','VinylSd','Wd Sdng','WdShing']\n",
    "lst_ExterQual_cat = ['Ex','Gd','TA','Fa','Po']\n",
    "lst_ExterCond_cat = ['Ex','Gd','TA','Fa','Po']\n",
    "lst_Foundation_cat = ['BrkTil','CBlock','PConc','Slab','Stone','Wood']\n",
    "lst_BsmtQual_cat = ['Ex','Gd','TA','Fa','Po','NA']\n",
    "lst_BsmtCond_cat = ['Ex','Gd','TA','Fa','Po','NA']\n",
    "lst_BsmtExposure_cat = ['Gd','Av','Mn','No','NA'] \n",
    "lst_BsmtFinType1_cat = ['GLQ','ALQ','BLQ','Rec','LwQ','Unf','NA']\n",
    "lst_BsmtFinType2_cat = ['GLQ','ALQ','BLQ','Rec','LwQ','Unf','NA']\n",
    "lst_Heating_cat = ['Floor','GasA','GasW','Grav','OthW','Wall']\n",
    "lst_HeatingQC_cat = ['Ex','Gd','TA','Fa','Po']\n",
    "lst_CentralAir_cat = ['N','Y']\n",
    "lst_Electrical_cat = ['SBrkr','FuseA','FuseF','FuseP','Mix']\n",
    "lst_KitchenQual_cat = ['SBrkr','FuseA','FuseF','FuseP','Mix']\n",
    "lst_KitchenQual_cat = ['Ex','Gd','TA','Fa','Po']\n",
    "lst_Functional_cat = ['Typ','Min1','Min2','Mod','Maj1','Maj2','Sev','Sal']\n",
    "lst_GarageType_cat = ['2Types','Attchd','Basment','BuiltIn','CarPort','Detchd','NA']\n",
    "lst_GarageFinish_cat = ['Fin','RFn','Unf','NA']\n",
    "lst_GarageQual_cat = ['Ex','Gd','TA','Fa','Po','NA']\n",
    "lst_GarageCond_cat = ['Ex','Gd','TA','Fa','Po','NA']\n",
    "lst_PavedDrive_cat = ['Y','P','N']\n",
    "lst_SaleType_cat = ['WD ','CWD','VWD','New','COD','Con','ConLw','ConLI','ConLD','Oth']\n",
    "lst_SaleCondition_cat = ['Normal','Abnorml','AdjLand','Alloca','Family','Partial']\n",
    "                      \n",
    "                      \n",
    "                      \n",
    "lst_LotConfig_cat = ['Inside','Corner','CulDSac','FR2','FR3']\n",
    "lst_Neighborhood_cat = ['Blmngtn','Blueste','BrDale','BrkSide','ClearCr','CollgCr','Crawfor',\\\n",
    "                        'Edwards','Gilbert','IDOTRR','MeadowV','Mitchel','Names','NoRidge',\\\n",
    "                        'NPkVill','NridgHt','NWAmes','OldTown','SWISU','Sawyer','SawyerW',\\\n",
    "                        'Somerst','StoneBr','Timber','Veenker']"
   ]
  },
  {
   "cell_type": "code",
   "execution_count": 14,
   "metadata": {
    "collapsed": true
   },
   "outputs": [],
   "source": [
    "cat_feature_encod_pipeline = Pipeline([\n",
    "        ('lst_MSZoning_cat', CatFeatureCleanUpAndEncode(lst_MSZoning_cat, 'MSZoning', 'C')),\n",
    "        ('lst_Street_cat', CatFeatureCleanUpAndEncode(lst_Street_cat, 'Street')),\n",
    "        ('lst_LotShape_cat', CatFeatureCleanUpAndEncode(lst_LotShape_cat, 'LotShape')),\n",
    "        ('lst_LandContour_cat', CatFeatureCleanUpAndEncode(lst_LandContour_cat, 'LandContour')),\n",
    "        ('lst_Utilities_cat', CatFeatureCleanUpAndEncode(lst_Utilities_cat, 'Utilities')),\n",
    "        ('lst_LandSlope_cat', CatFeatureCleanUpAndEncode(lst_LandSlope_cat, 'LandSlope')),\n",
    "        ('lst_Condition1_cat', CatFeatureCleanUpAndEncode(lst_Condition1_cat, 'Condition1')),    \n",
    "        ('lst_Condition2_cat', CatFeatureCleanUpAndEncode(lst_Condition2_cat, 'Condition2')),\n",
    "        ('lst_BldgType_cat', CatFeatureCleanUpAndEncode(lst_BldgType_cat, 'BldgType')),    \n",
    "        ('lst_HouseStyle_cat', CatFeatureCleanUpAndEncode(lst_HouseStyle_cat, 'HouseStyle')),\n",
    "        ('lst_RoofStyle_cat', CatFeatureCleanUpAndEncode(lst_RoofStyle_cat, 'RoofStyle')),\n",
    "        ('lst_RoofMatl_cat', CatFeatureCleanUpAndEncode(lst_RoofMatl_cat, 'RoofMatl')),\n",
    "        ('lst_Exterior1st_cat', CatFeatureCleanUpAndEncode(lst_Exterior1st_cat, 'Exterior1st')),    \n",
    "        ('lst_Exterior2nd_cat', CatFeatureCleanUpAndEncode(lst_Exterior2nd_cat, 'Exterior2nd')),\n",
    "        ('lst_ExterQual_cat', CatFeatureCleanUpAndEncode(lst_ExterQual_cat, 'ExterQual')), \n",
    "        ('lst_ExterCond_cat', CatFeatureCleanUpAndEncode(lst_ExterCond_cat, 'ExterCond')),\n",
    "        ('lst_Foundation_cat', CatFeatureCleanUpAndEncode(lst_Foundation_cat, 'Foundation')),\n",
    "        ('lst_BsmtQual_cat', CatFeatureCleanUpAndEncode(lst_BsmtQual_cat, 'BsmtQual')),\n",
    "        ('lst_BsmtCond_cat', CatFeatureCleanUpAndEncode(lst_BsmtCond_cat, 'BsmtCond')),    \n",
    "        ('lst_BsmtExposure_cat', CatFeatureCleanUpAndEncode(lst_BsmtExposure_cat, 'BsmtExposure')),\n",
    "        ('lst_BsmtFinType1_cat', CatFeatureCleanUpAndEncode(lst_BsmtFinType1_cat, 'BsmtFinType1')), \n",
    "        ('lst_BsmtFinType2_cat', CatFeatureCleanUpAndEncode(lst_BsmtFinType2_cat, 'BsmtFinType2')),\n",
    "        ('lst_Heating_cat', CatFeatureCleanUpAndEncode(lst_Heating_cat, 'Heating')),\n",
    "        ('lst_HeatingQC_cat', CatFeatureCleanUpAndEncode(lst_HeatingQC_cat, 'HeatingQC')),\n",
    "        ('lst_CentralAir_cat', CatFeatureCleanUpAndEncode(lst_CentralAir_cat, 'CentralAir')),\n",
    "        ('lst_Electrical_cat', CatFeatureCleanUpAndEncode(lst_Electrical_cat, 'Electrical')),    \n",
    "        ('lst_KitchenQual_cat', CatFeatureCleanUpAndEncode(lst_KitchenQual_cat, 'KitchenQual')),\n",
    "        ('lst_Functional_cat', CatFeatureCleanUpAndEncode(lst_Functional_cat, 'Functional')), \n",
    "        ('lst_GarageType_cat', CatFeatureCleanUpAndEncode(lst_GarageType_cat, 'GarageType')),\n",
    "        ('lst_GarageFinish_cat', CatFeatureCleanUpAndEncode(lst_GarageFinish_cat, 'GarageFinish')),\n",
    "        ('lst_GarageQual_cat', CatFeatureCleanUpAndEncode(lst_GarageQual_cat, 'GarageQual')),\n",
    "        ('lst_GarageCond_cat', CatFeatureCleanUpAndEncode(lst_GarageCond_cat, 'GarageCond')),    \n",
    "        ('lst_PavedDrive_cat', CatFeatureCleanUpAndEncode(lst_PavedDrive_cat, 'PavedDrive')),\n",
    "        ('lst_SaleType_cat', CatFeatureCleanUpAndEncode(lst_SaleType_cat, 'SaleType')), \n",
    "        ('lst_SaleCondition_cat', CatFeatureCleanUpAndEncode(lst_SaleCondition_cat, 'SaleCondition')),\n",
    "    \n",
    "        ('lst_LotConfig_cat', CatFeatureCleanUpAndEncode(lst_LotConfig_cat, 'LotConfig', lblEncode= False)),\n",
    "        ('lst_Neighborhood_cat', CatFeatureCleanUpAndEncode(lst_Neighborhood_cat, 'Neighborhood', lblEncode=False))\n",
    "      ]) "
   ]
  },
  {
   "cell_type": "code",
   "execution_count": 15,
   "metadata": {
    "collapsed": true
   },
   "outputs": [],
   "source": [
    "housing_train_set = cat_feature_encod_pipeline.transform(housing_train_set)"
   ]
  },
  {
   "cell_type": "code",
   "execution_count": 16,
   "metadata": {},
   "outputs": [
    {
     "data": {
      "text/plain": [
       "(1149, 100)"
      ]
     },
     "execution_count": 16,
     "metadata": {},
     "output_type": "execute_result"
    }
   ],
   "source": [
    "housing_train_set.shape"
   ]
  },
  {
   "cell_type": "code",
   "execution_count": 17,
   "metadata": {
    "collapsed": true
   },
   "outputs": [],
   "source": [
    "# y = housing_data.SalePrice\n",
    "# X = housing_data.drop('SalePrice', axis=1)\n",
    "# from sklearn.model_selection import train_test_split\n",
    "# X_train, X_test, y_train, y_test = train_test_split(X, y, test_size = 0.2, random_state = 22)"
   ]
  },
  {
   "cell_type": "code",
   "execution_count": 18,
   "metadata": {},
   "outputs": [
    {
     "name": "stdout",
     "output_type": "stream",
     "text": [
      "y_train - type :  <class 'numpy.ndarray'>\n",
      "y_train - shape :  (1149,)\n",
      "y_train - array :  [208500 181500 223500 ..., 210000 266500 147500]\n"
     ]
    }
   ],
   "source": [
    "y_train = housing_train_set['SalePrice'].values\n",
    "print('y_train - type : ', type(y_train))\n",
    "print('y_train - shape : ', y_train.shape)\n",
    "print('y_train - array : ', y_train)"
   ]
  },
  {
   "cell_type": "code",
   "execution_count": 19,
   "metadata": {},
   "outputs": [
    {
     "name": "stdout",
     "output_type": "stream",
     "text": [
      "['MSSubClass', 'MSZoning', 'LotFrontage', 'LotArea', 'Street', 'LotShape', 'LandContour', 'Utilities', 'LandSlope', 'Condition1', 'Condition2', 'BldgType', 'HouseStyle', 'OverallQual', 'OverallCond', 'YearBuilt', 'YearRemodAdd', 'RoofStyle', 'RoofMatl', 'Exterior1st', 'Exterior2nd', 'ExterQual', 'ExterCond', 'Foundation', 'BsmtQual', 'BsmtCond', 'BsmtExposure', 'BsmtFinType1', 'BsmtFinSF1', 'BsmtFinType2', 'BsmtFinSF2', 'BsmtUnfSF', 'TotalBsmtSF', 'Heating', 'HeatingQC', 'CentralAir', 'Electrical', 'FstFlrSF', 'SecndFlrSF', 'LowQualFinSF', 'GrLivArea', 'BsmtFullBath', 'BsmtHalfBath', 'FullBath', 'HalfBath', 'BedroomAbvGr', 'KitchenAbvGr', 'KitchenQual', 'TotRmsAbvGrd', 'Functional', 'Fireplaces', 'GarageType', 'GarageYrBlt', 'GarageFinish', 'GarageCars', 'GarageArea', 'GarageQual', 'GarageCond', 'PavedDrive', 'WoodDeckSF', 'OpenPorchSF', 'EnclosedPorch', 'ThreeSsnPorch', 'ScreenPorch', 'PoolArea', 'MiscVal', 'MoSold', 'YrSold', 'SaleType', 'SaleCondition', 'LotConfig_Corner', 'LotConfig_CulDSac', 'LotConfig_FR2', 'LotConfig_FR3', 'Neighborhood_Blueste', 'Neighborhood_BrDale', 'Neighborhood_BrkSide', 'Neighborhood_ClearCr', 'Neighborhood_CollgCr', 'Neighborhood_Crawfor', 'Neighborhood_Edwards', 'Neighborhood_Gilbert', 'Neighborhood_IDOTRR', 'Neighborhood_MeadowV', 'Neighborhood_Mitchel', 'Neighborhood_Names', 'Neighborhood_NoRidge', 'Neighborhood_NPkVill', 'Neighborhood_NridgHt', 'Neighborhood_NWAmes', 'Neighborhood_OldTown', 'Neighborhood_SWISU', 'Neighborhood_Sawyer', 'Neighborhood_SawyerW', 'Neighborhood_Somerst', 'Neighborhood_StoneBr', 'Neighborhood_Timber', 'Neighborhood_Veenker']\n"
     ]
    }
   ],
   "source": [
    "X_features  = [feature for feature in housing_train_set.columns if feature not in ['SalePrice', 'Id']]\n",
    "print(X_features)"
   ]
  },
  {
   "cell_type": "code",
   "execution_count": 20,
   "metadata": {},
   "outputs": [
    {
     "name": "stdout",
     "output_type": "stream",
     "text": [
      "X_train - type :  <class 'numpy.ndarray'>\n",
      "X_train - shape :  (1149, 98)\n",
      "X_train - array :  [[ 60.   5.  65. ...,   0.   0.   0.]\n",
      " [ 20.   5.  80. ...,   0.   0.   1.]\n",
      " [ 60.   5.  68. ...,   0.   0.   0.]\n",
      " ..., \n",
      " [ 20.   5.  85. ...,   0.   0.   0.]\n",
      " [ 70.   5.  66. ...,   0.   0.   0.]\n",
      " [ 20.   5.  75. ...,   0.   0.   0.]]\n"
     ]
    }
   ],
   "source": [
    "X_train = housing_train_set[X_features].values\n",
    "print('X_train - type : ', type(X_train))\n",
    "print('X_train - shape : ', X_train.shape)\n",
    "print('X_train - array : ', X_train)"
   ]
  },
  {
   "cell_type": "code",
   "execution_count": 21,
   "metadata": {
    "collapsed": true
   },
   "outputs": [],
   "source": [
    "#from sklearn.model_selection import train_test_split\n",
    "#X_train, X_test, y_train, y_test = train_test_split(X, y, test_size = 0.2, random_state = 22)"
   ]
  },
  {
   "cell_type": "code",
   "execution_count": 13,
   "metadata": {},
   "outputs": [
    {
     "ename": "NameError",
     "evalue": "name 'X_train' is not defined",
     "output_type": "error",
     "traceback": [
      "\u001b[1;31m---------------------------------------------------------------------------\u001b[0m",
      "\u001b[1;31mNameError\u001b[0m                                 Traceback (most recent call last)",
      "\u001b[1;32m<ipython-input-13-42bc0ff48249>\u001b[0m in \u001b[0;36m<module>\u001b[1;34m()\u001b[0m\n\u001b[0;32m      1\u001b[0m \u001b[1;32mfrom\u001b[0m \u001b[0msklearn\u001b[0m\u001b[1;33m.\u001b[0m\u001b[0mlinear_model\u001b[0m \u001b[1;32mimport\u001b[0m \u001b[0mLinearRegression\u001b[0m\u001b[1;33m\u001b[0m\u001b[0m\n\u001b[0;32m      2\u001b[0m \u001b[0mlm_model\u001b[0m \u001b[1;33m=\u001b[0m \u001b[0mLinearRegression\u001b[0m\u001b[1;33m(\u001b[0m\u001b[1;33m)\u001b[0m\u001b[1;33m\u001b[0m\u001b[0m\n\u001b[1;32m----> 3\u001b[1;33m \u001b[0mlm_model\u001b[0m\u001b[1;33m.\u001b[0m\u001b[0mfit\u001b[0m\u001b[1;33m(\u001b[0m\u001b[0mX_train\u001b[0m\u001b[1;33m,\u001b[0m \u001b[0my_train\u001b[0m\u001b[1;33m)\u001b[0m\u001b[1;33m\u001b[0m\u001b[0m\n\u001b[0m\u001b[0;32m      4\u001b[0m \u001b[0mprint\u001b[0m\u001b[1;33m(\u001b[0m\u001b[1;34m'Linear Model Coefficients : '\u001b[0m\u001b[1;33m,\u001b[0m \u001b[0mlm_model\u001b[0m\u001b[1;33m.\u001b[0m\u001b[0mcoef_\u001b[0m\u001b[1;33m)\u001b[0m\u001b[1;33m\u001b[0m\u001b[0m\n\u001b[0;32m      5\u001b[0m \u001b[0mprint\u001b[0m\u001b[1;33m(\u001b[0m\u001b[1;34m'Linear Model Intercept : '\u001b[0m\u001b[1;33m,\u001b[0m \u001b[0mlm_model\u001b[0m\u001b[1;33m.\u001b[0m\u001b[0mintercept_\u001b[0m\u001b[1;33m)\u001b[0m\u001b[1;33m\u001b[0m\u001b[0m\n",
      "\u001b[1;31mNameError\u001b[0m: name 'X_train' is not defined"
     ]
    }
   ],
   "source": [
    "from sklearn.linear_model import LinearRegression\n",
    "lm_model = LinearRegression()\n",
    "lm_model.fit(X_train, y_train)\n",
    "print('Linear Model Coefficients : ', lm_model.coef_)\n",
    "print('Linear Model Intercept : ', lm_model.intercept_)"
   ]
  },
  {
   "cell_type": "markdown",
   "metadata": {},
   "source": [
    "### Check accuracy on TRAIN set"
   ]
  },
  {
   "cell_type": "code",
   "execution_count": 23,
   "metadata": {},
   "outputs": [
    {
     "name": "stdout",
     "output_type": "stream",
     "text": [
      "Root Mean Squared Error X Train :  30697.0300456\n",
      "R-Squre X Train :  0.860373949795\n"
     ]
    }
   ],
   "source": [
    "from sklearn.metrics import mean_squared_error, r2_score\n",
    "pred_X_train = lm_model.predict(X_train)\n",
    "mse_X_train =  mean_squared_error(y_train, pred_X_train)\n",
    "r2_X_train = r2_score(y_train, pred_X_train)\n",
    "print('Root Mean Squared Error X Train : ', np.sqrt(mse_X_train))\n",
    "print('R-Squre X Train : ', r2_X_train)"
   ]
  },
  {
   "cell_type": "markdown",
   "metadata": {},
   "source": [
    "### Apply transformation on TEST set using PIPELINES"
   ]
  },
  {
   "cell_type": "code",
   "execution_count": 24,
   "metadata": {
    "collapsed": true
   },
   "outputs": [],
   "source": [
    "housing_test_set = fillna_cleanup_pipeline.fit_transform(housing_test_set)\n",
    "housing_test_set = cat_feature_encod_pipeline.transform(housing_test_set)"
   ]
  },
  {
   "cell_type": "code",
   "execution_count": 25,
   "metadata": {},
   "outputs": [
    {
     "data": {
      "text/plain": [
       "(288, 100)"
      ]
     },
     "execution_count": 25,
     "metadata": {},
     "output_type": "execute_result"
    }
   ],
   "source": [
    "housing_test_set.shape"
   ]
  },
  {
   "cell_type": "code",
   "execution_count": 26,
   "metadata": {
    "collapsed": true
   },
   "outputs": [],
   "source": [
    "y_test = housing_test_set['SalePrice'].values\n",
    "X_test = housing_test_set[X_features].values"
   ]
  },
  {
   "cell_type": "code",
   "execution_count": 27,
   "metadata": {},
   "outputs": [
    {
     "name": "stdout",
     "output_type": "stream",
     "text": [
      "Root Mean Squared Error X TEST :  26240.2389345\n",
      "R-Squre X TEST :  0.850823709381\n"
     ]
    }
   ],
   "source": [
    "pred_X_test = lm_model.predict(X_test)\n",
    "mse_X_test =  mean_squared_error(y_test, pred_X_test)\n",
    "r2_X_test = r2_score(y_test, pred_X_test)\n",
    "print('Root Mean Squared Error X TEST : ', np.sqrt(mse_X_test))\n",
    "print('R-Squre X TEST : ', r2_X_test)"
   ]
  },
  {
   "cell_type": "markdown",
   "metadata": {},
   "source": [
    "# Save Model for Future Use "
   ]
  },
  {
   "cell_type": "code",
   "execution_count": 28,
   "metadata": {
    "collapsed": true
   },
   "outputs": [],
   "source": [
    "import pickle\n",
    "filename = '../models/lm_model_housing_data.sav'\n",
    "pickle.dump(lm_model, open(filename, 'wb'))"
   ]
  },
  {
   "cell_type": "markdown",
   "metadata": {},
   "source": [
    "# Linear Algebric Way of solving an equation.\n",
    "\n",
    "<a href=\"./NormalEquation/Normal Equation.html\"> Normal Equation</a> is the linear algibric way of solving a linear equation."
   ]
  },
  {
   "cell_type": "code",
   "execution_count": 1,
   "metadata": {
    "collapsed": true
   },
   "outputs": [],
   "source": [
    "import numpy as np\n",
    "\n",
    "X = 2 * np.random.rand(100, 1)\n",
    "y = 4 + 3 * X + np.random.randn(100, 1)"
   ]
  },
  {
   "cell_type": "code",
   "execution_count": 7,
   "metadata": {},
   "outputs": [
    {
     "data": {
      "image/png": "[encoded data removed]",
      "text/plain": [
       "<matplotlib.figure.Figure at 0x2c11d878a58>"
      ]
     },
     "metadata": {},
     "output_type": "display_data"
    }
   ],
   "source": [
    "plt.plot(X, y, \"b.\")\n",
    "plt.xlabel(\"$x_1$\", fontsize=18)\n",
    "plt.ylabel(\"$y$\", rotation=0, fontsize=18)\n",
    "plt.axis([0, 2, 0, 15])\n",
    "plt.show()"
   ]
  },
  {
   "cell_type": "code",
   "execution_count": 8,
   "metadata": {
    "collapsed": true
   },
   "outputs": [],
   "source": [
    "X_b = np.c_[np.ones((100, 1)), X]  # add x0 = 1 to each instance\n",
    "theta_best = np.linalg.inv(X_b.T.dot(X_b)).dot(X_b.T).dot(y)"
   ]
  },
  {
   "cell_type": "code",
   "execution_count": 9,
   "metadata": {},
   "outputs": [
    {
     "data": {
      "text/plain": [
       "array([[ 4.23258523],\n",
       "       [ 2.79636191]])"
      ]
     },
     "execution_count": 9,
     "metadata": {},
     "output_type": "execute_result"
    }
   ],
   "source": [
    "theta_best"
   ]
  },
  {
   "cell_type": "code",
   "execution_count": 14,
   "metadata": {},
   "outputs": [
    {
     "data": {
      "text/plain": [
       "(array([ 4.23258523]), array([[ 2.79636191]]))"
      ]
     },
     "execution_count": 14,
     "metadata": {},
     "output_type": "execute_result"
    }
   ],
   "source": [
    "lin_reg = LinearRegression()\n",
    "lin_reg.fit(X, y)\n",
    "lin_reg.intercept_, lin_reg.coef_"
   ]
  }
 ],
 "metadata": {
  "kernelspec": {
   "display_name": "Python 3",
   "language": "python",
   "name": "python3"
  },
  "language_info": {
   "codemirror_mode": {
    "name": "ipython",
    "version": 3
   },
   "file_extension": ".py",
   "mimetype": "text/x-python",
   "name": "python",
   "nbconvert_exporter": "python",
   "pygments_lexer": "ipython3",
   "version": "3.6.1"
  }
 },
 "nbformat": 4,
 "nbformat_minor": 2
}
