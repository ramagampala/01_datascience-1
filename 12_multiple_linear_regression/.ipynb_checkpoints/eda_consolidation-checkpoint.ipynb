{
 "cells": [
  {
   "cell_type": "code",
   "execution_count": 402,
   "metadata": {
    "collapsed": true
   },
   "outputs": [],
   "source": [
    "import numpy as np\n",
    "import numpy.random as rnd\n",
    "\n",
    "# to make this notebook's output stable across runs\n",
    "rnd.seed(42)\n",
    "\n",
    "import matplotlib.pyplot as plt\n",
    "%matplotlib inline\n",
    "\n",
    "plt.rcParams['axes.labelsize'] = 14\n",
    "plt.rcParams['xtick.labelsize'] = 12\n",
    "plt.rcParams['ytick.labelsize'] = 12\n",
    "\n",
    "import pandas as pd"
   ]
  },
  {
   "cell_type": "code",
   "execution_count": 403,
   "metadata": {
    "collapsed": true
   },
   "outputs": [],
   "source": [
    "housing_data = pd.read_csv('../data/housing_price.csv')"
   ]
  },
  {
   "cell_type": "code",
   "execution_count": 404,
   "metadata": {
    "collapsed": true
   },
   "outputs": [],
   "source": [
    "def getMissingDataFeatures(df):\n",
    "    ser_counts = df.count()\n",
    "    data_size = len(df)\n",
    "    data_missing_features = []\n",
    "    for idx in ser_counts.index:\n",
    "        if(ser_counts[idx] < data_size):\n",
    "            data_missing_features.append(idx)\n",
    "    return data_missing_features\n",
    "\n",
    "def getNullPercentage(df, feature):\n",
    "    null_count = len(df[df[feature].isnull()])\n",
    "    percent_of_nulls = null_count*100/len(df)\n",
    "    return null_count, percent_of_nulls\n",
    "\n",
    "def dropFeaturesWithNulls(df, lst_featrues, threshold=75):\n",
    "    for feature in lst_featrues:\n",
    "        null_count, percent_of_nulls = getNullPercentage(df, feature)\n",
    "        print('Null count in {0} : {1}, Percent of Null: {2}'.format(feature, null_count, percent_of_nulls))\n",
    "        if(percent_of_nulls > threshold):\n",
    "            print('Droping --- {}'.format(feature))\n",
    "            df.drop(feature, axis=1, inplace=True)\n",
    "    return df\n",
    "\n",
    "def getCatFeaturesWithNulls(df):\n",
    "    ser_dtypes = df.dtypes\n",
    "    str_col_with_nulls = [x for x in ser_dtypes.index \n",
    "                              if ser_dtypes[x] in ['object']\n",
    "                                and len(df[df[x].notnull()]) < len(housing_data)]\n",
    "    return str_col_with_nulls\n",
    "\n",
    "def getCatFeatures(df):\n",
    "    ser_dtypes = housing_data.dtypes\n",
    "    cat_features = [x for x in ser_dtypes.index \n",
    "                              if ser_dtypes[x] in ['object']]\n",
    "    return cat_features"
   ]
  },
  {
   "cell_type": "code",
   "execution_count": 405,
   "metadata": {},
   "outputs": [
    {
     "name": "stdout",
     "output_type": "stream",
     "text": [
      "Data Frame before droping null features (1460, 81)\n",
      "Null count in Alley : 1369, Percent of Null: 93.76712328767124\n",
      "Droping --- Alley\n",
      "Null count in MasVnrType : 8, Percent of Null: 0.547945205479452\n",
      "Null count in BsmtQual : 37, Percent of Null: 2.5342465753424657\n",
      "Null count in BsmtCond : 37, Percent of Null: 2.5342465753424657\n",
      "Null count in BsmtExposure : 38, Percent of Null: 2.6027397260273974\n",
      "Null count in BsmtFinType1 : 37, Percent of Null: 2.5342465753424657\n",
      "Null count in BsmtFinType2 : 38, Percent of Null: 2.6027397260273974\n",
      "Null count in Electrical : 1, Percent of Null: 0.0684931506849315\n",
      "Null count in FireplaceQu : 690, Percent of Null: 47.26027397260274\n",
      "Null count in GarageType : 81, Percent of Null: 5.5479452054794525\n",
      "Null count in GarageFinish : 81, Percent of Null: 5.5479452054794525\n",
      "Null count in GarageQual : 81, Percent of Null: 5.5479452054794525\n",
      "Null count in GarageCond : 81, Percent of Null: 5.5479452054794525\n",
      "Null count in PoolQC : 1453, Percent of Null: 99.52054794520548\n",
      "Droping --- PoolQC\n",
      "Null count in Fence : 1179, Percent of Null: 80.75342465753425\n",
      "Droping --- Fence\n",
      "Null count in MiscFeature : 1406, Percent of Null: 96.3013698630137\n",
      "Droping --- MiscFeature\n",
      "Data Frame after droping null features (1460, 77)\n"
     ]
    }
   ],
   "source": [
    "print('Data Frame before droping null features', housing_data.shape)\n",
    "housing_data = dropFeaturesWithNulls(housing_data, getCatFeaturesWithNulls(housing_data))\n",
    "print('Data Frame after droping null features', housing_data.shape)"
   ]
  },
  {
   "cell_type": "code",
   "execution_count": 406,
   "metadata": {},
   "outputs": [],
   "source": [
    "housing_data.fillna(value=housing_data.mean()[['LotFrontage']], inplace=True)\n",
    "housing_data['MasVnrArea'].fillna(value=0, inplace=True)\n",
    "housing_data['GarageYrBlt'].interpolate(method='nearest', inplace=True)\n",
    "\n",
    "housing_data.rename(columns={'1stFlrSF':'FstFlrSF', '2ndFlrSF':'SecndFlrSF', '3SsnPorch':'ThreeSsnPorch'}, inplace=True)\n",
    "housing_data.BsmtCond.fillna('TA', inplace=True)\n",
    "\n",
    "# Droping inconsistent data from the data frame.\n",
    "housing_data.drop(housing_data['GarageYrBlt'] < housing_data['YearBuilt'].index, inplace=True)\n",
    "\n",
    "housing_data.drop('MasVnrArea', axis=1, inplace=True)\n",
    "housing_data.drop('MasVnrType', axis=1, inplace=True)"
   ]
  },
  {
   "cell_type": "code",
   "execution_count": 407,
   "metadata": {},
   "outputs": [
    {
     "data": {
      "text/plain": [
       "['BsmtQual',\n",
       " 'BsmtExposure',\n",
       " 'BsmtFinType1',\n",
       " 'BsmtFinType2',\n",
       " 'Electrical',\n",
       " 'FireplaceQu',\n",
       " 'GarageType',\n",
       " 'GarageFinish',\n",
       " 'GarageQual',\n",
       " 'GarageCond']"
      ]
     },
     "execution_count": 407,
     "metadata": {},
     "output_type": "execute_result"
    }
   ],
   "source": [
    "getMissingDataFeatures(housing_data)"
   ]
  },
  {
   "cell_type": "markdown",
   "metadata": {},
   "source": [
    " BsmtQual: Evaluates the height of the basement\n",
    "       \n",
    "       Ex\tExcellent (100+ inches)\t\n",
    "       Gd\tGood (90-99 inches)\n",
    "       TA\tTypical (80-89 inches)\n",
    "       Fa\tFair (70-79 inches)\n",
    "       Po\tPoor (<70 inches\n",
    "       NA\tNo Basement\n",
    "\n",
    " BsmtExposure: Refers to walkout or garden level walls\n",
    "\n",
    "       Gd\tGood Exposure\n",
    "       Av\tAverage Exposure (split levels or foyers typically score average or above)\t\n",
    "       Mn\tMimimum Exposure\n",
    "       No\tNo Exposure\n",
    "       NA\tNo Basement\n",
    "       \n",
    " BsmtFinType1: Rating of basement finished area\n",
    "\n",
    "       GLQ\tGood Living Quarters\n",
    "       ALQ\tAverage Living Quarters\n",
    "       BLQ\tBelow Average Living Quarters\t\n",
    "       Rec\tAverage Rec Room\n",
    "       LwQ\tLow Quality\n",
    "       Unf\tUnfinshed\n",
    "       NA\tNo Basement\n",
    "       \n",
    " BsmtFinType2: Rating of basement finished area (if multiple types)\n",
    "\n",
    "       GLQ\tGood Living Quarters\n",
    "       ALQ\tAverage Living Quarters\n",
    "       BLQ\tBelow Average Living Quarters\t\n",
    "       Rec\tAverage Rec Room\n",
    "       LwQ\tLow Quality\n",
    "       Unf\tUnfinshed\n",
    "       NA\tNo Basement"
   ]
  },
  {
   "cell_type": "code",
   "execution_count": 408,
   "metadata": {},
   "outputs": [
    {
     "name": "stdout",
     "output_type": "stream",
     "text": [
      "Shape of the Data Frame with nulls in all above features :  (37, 75)\n"
     ]
    }
   ],
   "source": [
    "print('Shape of the Data Frame with nulls in all above features : ',housing_data[housing_data.BsmtQual.isnull() & housing_data.BsmtExposure.isnull() & housing_data.BsmtFinType1.isnull() & housing_data.BsmtFinType2.isnull()].shape)"
   ]
  },
  {
   "cell_type": "code",
   "execution_count": 412,
   "metadata": {},
   "outputs": [],
   "source": [
    "def garageConditionBasedImputation(row):\n",
    "    if row.BsmtQual and row.BsmtExposure and row.BsmtFinType1 and row.BsmtFinType2:\n",
    "        row.BsmtQual = 'NA'\n",
    "        row.BsmtExposure = 'NA'\n",
    "        row.BsmtFinType1 = 'NA'\n",
    "        row.BsmtFinType2 = 'NA'\n",
    "    return row    \n",
    "\n",
    "housing_data = housing_data.apply(lambda row: garageConditionBasedImputation(row), axis=1)"
   ]
  },
  {
   "cell_type": "markdown",
   "metadata": {},
   "source": [
    "GarageType: Garage location\n",
    "\t\t\n",
    "       2Types\tMore than one type of garage\n",
    "       Attchd\tAttached to home\n",
    "       Basment\tBasement Garage\n",
    "       BuiltIn\tBuilt-In (Garage part of house - typically has room above garage)\n",
    "       CarPort\tCar Port\n",
    "       Detchd\tDetached from home\n",
    "       NA\tNo Garage\n",
    "\n",
    "GarageFinish: Interior finish of the garage\n",
    "\n",
    "       Fin\tFinished\n",
    "       RFn\tRough Finished\t\n",
    "       Unf\tUnfinished\n",
    "       NA\tNo Garage\n",
    "       \n",
    "GarageQual: Garage quality\n",
    "\n",
    "       Ex\tExcellent\n",
    "       Gd\tGood\n",
    "       TA\tTypical/Average\n",
    "       Fa\tFair\n",
    "       Po\tPoor\n",
    "       NA\tNo Garage\n",
    "\n",
    "GarageCond: Garage condition\n",
    "\n",
    "       Ex\tExcellent\n",
    "       Gd\tGood\n",
    "       TA\tTypical/Average\n",
    "       Fa\tFair\n",
    "       Po\tPoor\n",
    "       NA\tNo Garage"
   ]
  },
  {
   "cell_type": "code",
   "execution_count": 414,
   "metadata": {},
   "outputs": [
    {
     "name": "stdout",
     "output_type": "stream",
     "text": [
      "Shape of the Data Frame with nulls in all above features :  (0, 75)\n"
     ]
    }
   ],
   "source": [
    "print('Shape of the Data Frame with nulls in all above features : ',housing_data[housing_data.GarageType.isnull() & housing_data.GarageFinish.isnull() & housing_data.GarageQual.isnull() & housing_data.GarageCond.isnull()].shape)"
   ]
  },
  {
   "cell_type": "code",
   "execution_count": 413,
   "metadata": {
    "collapsed": true
   },
   "outputs": [],
   "source": [
    "def garageConditionBasedImputation(row):\n",
    "    if row.GarageType and row.GarageFinish and row.GarageQual and row.GarageCond:\n",
    "        row.GarageType = 'NA'\n",
    "        row.GarageFinish = 'NA'\n",
    "        row.GarageQual = 'NA'\n",
    "        row.GarageCond = 'NA'\n",
    "    return row    \n",
    "\n",
    "housing_data = housing_data.apply(lambda row: garageConditionBasedImputation(row), axis=1)"
   ]
  },
  {
   "cell_type": "code",
   "execution_count": 421,
   "metadata": {},
   "outputs": [
    {
     "data": {
      "text/plain": [
       "(0, 0.0)"
      ]
     },
     "execution_count": 421,
     "metadata": {},
     "output_type": "execute_result"
    }
   ],
   "source": [
    "getNullPercentage(housing_data, 'Electrical')"
   ]
  },
  {
   "cell_type": "code",
   "execution_count": 420,
   "metadata": {},
   "outputs": [],
   "source": [
    "housing_data.drop(housing_data[housing_data.Electrical.isnull()].index, inplace=True)"
   ]
  },
  {
   "cell_type": "code",
   "execution_count": 422,
   "metadata": {},
   "outputs": [
    {
     "data": {
      "text/plain": [
       "(688, 47.18792866941015)"
      ]
     },
     "execution_count": 422,
     "metadata": {},
     "output_type": "execute_result"
    }
   ],
   "source": [
    "getNullPercentage(housing_data, 'FireplaceQu')"
   ]
  },
  {
   "cell_type": "code",
   "execution_count": 351,
   "metadata": {},
   "outputs": [
    {
     "data": {
      "text/plain": [
       "TA    649\n",
       "Gd    617\n",
       "Ex    121\n",
       "Fa     35\n",
       "Name: BsmtQual, dtype: int64"
      ]
     },
     "execution_count": 351,
     "metadata": {},
     "output_type": "execute_result"
    }
   ],
   "source": [
    "housing_data.BsmtQual.value_counts()"
   ]
  }
 ],
 "metadata": {
  "kernelspec": {
   "display_name": "Python 3",
   "language": "python",
   "name": "python3"
  },
  "language_info": {
   "codemirror_mode": {
    "name": "ipython",
    "version": 3
   },
   "file_extension": ".py",
   "mimetype": "text/x-python",
   "name": "python",
   "nbconvert_exporter": "python",
   "pygments_lexer": "ipython3",
   "version": "3.5.3"
  }
 },
 "nbformat": 4,
 "nbformat_minor": 2
}
