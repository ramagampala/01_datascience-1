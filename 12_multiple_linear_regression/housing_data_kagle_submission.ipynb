{
 "cells": [
  {
   "cell_type": "markdown",
   "metadata": {},
   "source": [
    "# Kaggle Submission"
   ]
  },
  {
   "cell_type": "code",
   "execution_count": 32,
   "metadata": {
    "collapsed": true
   },
   "outputs": [],
   "source": [
    "import pandas as pd\n",
    "import numpy as np\n",
    "import matplotlib.pyplot as plt\n",
    "% matplotlib inline\n",
    "from sklearn.base import BaseEstimator, TransformerMixin\n",
    "from sklearn.pipeline import Pipeline"
   ]
  },
  {
   "cell_type": "code",
   "execution_count": 33,
   "metadata": {},
   "outputs": [
    {
     "data": {
      "text/plain": [
       "(1459, 80)"
      ]
     },
     "execution_count": 33,
     "metadata": {},
     "output_type": "execute_result"
    }
   ],
   "source": [
    "kagle_test_data = pd.read_csv('../data/housing_kagle_test.csv')\n",
    "kagle_test_data.shape"
   ]
  },
  {
   "cell_type": "code",
   "execution_count": 34,
   "metadata": {
    "collapsed": true
   },
   "outputs": [],
   "source": [
    "def getMissingDataFeatures(df):\n",
    "    ser_null_columns = df.isnull().any(axis=0)\n",
    "    lst_null_columns = [x for x in ser_null_columns.index if ser_null_columns[x]]\n",
    "    return lst_null_columns\n",
    "\n",
    "def getNullPercentage(df, feature):\n",
    "    null_count = len(df[df[feature].isnull()])\n",
    "    percent_of_nulls = null_count*100/len(df)\n",
    "    return null_count, percent_of_nulls\n",
    "\n",
    "def dropFeaturesWithNulls(df, lst_featrues, threshold=75):\n",
    "    for feature in lst_featrues:\n",
    "        null_count, percent_of_nulls = getNullPercentage(df, feature)\n",
    "#        print('Null count in {0} : {1}, Percent of Null: {2}'.format(feature, null_count, percent_of_nulls))\n",
    "        if(percent_of_nulls > threshold):\n",
    "#            print('Droping --- {}'.format(feature))\n",
    "            df.drop(feature, axis=1, inplace=True)\n",
    "    return df\n",
    "\n",
    "def getCatFeatures(df):\n",
    "    cat_features = df.select_dtypes(include=['object']).columns\n",
    "    return cat_features\n",
    "\n",
    "def getCatFeaturesWithNulls(df):\n",
    "    ser_null_columns = df[getCatFeatures(df)].isnull().any(axis=0)\n",
    "    lst_null_columns = [x for x in ser_null_columns.index if ser_null_columns[x]]\n",
    "    return lst_null_columns"
   ]
  },
  {
   "cell_type": "code",
   "execution_count": 35,
   "metadata": {
    "collapsed": true
   },
   "outputs": [],
   "source": [
    "def fillNAwithBlank(df, lst_features):\n",
    "    for feature in lst_features:\n",
    "        df[feature].fillna('', inplace=True)\n",
    "    return df"
   ]
  },
  {
   "cell_type": "code",
   "execution_count": 36,
   "metadata": {
    "collapsed": true
   },
   "outputs": [],
   "source": [
    "def formatCondition(lst_features):\n",
    "    copy_lst_features = lst_features.copy()\n",
    "    for i, v in enumerate(lst_features):\n",
    "        if(i == 0):\n",
    "            copy_lst_features.insert(i*2, 'not ')\n",
    "        else:    \n",
    "            copy_lst_features.insert(i*2, ' and not ')\n",
    "                      \n",
    "    #print(lst_features)\n",
    "    return ''.join(copy_lst_features)\n",
    "\n",
    "def conditionBasedImputation(row, condition, lst_features):\n",
    "    if condition:\n",
    "        for feature in lst_features:\n",
    "            row[feature] = 'NA'\n",
    "    return row"
   ]
  },
  {
   "cell_type": "code",
   "execution_count": 37,
   "metadata": {
    "collapsed": true
   },
   "outputs": [],
   "source": [
    "class FillNAandCleanUp(BaseEstimator, TransformerMixin):\n",
    "    def fit(self, X, y=None):\n",
    "        return self\n",
    "    def transform(self, X, y=None):\n",
    "        X.fillna(value=X.mean()[['LotFrontage']], inplace=True)\n",
    "        X['MasVnrArea'].fillna(value=0, inplace=True)\n",
    "        \n",
    "        #interpolation, we have to reindex the dataframe. Then interpolate, then drop(reset) the index.\n",
    "        X.index = X['YearBuilt']\n",
    "        X['GarageYrBlt'] = X['GarageYrBlt'].interpolate()\n",
    "        X.reset_index(drop=True, inplace=True)\n",
    "\n",
    "        X.rename(columns={'1stFlrSF':'FstFlrSF', '2ndFlrSF':'SecndFlrSF', '3SsnPorch':'ThreeSsnPorch'}, inplace=True)\n",
    "        X.BsmtCond.fillna('TA', inplace=True)\n",
    "\n",
    "        # Droping inconsistent data from the data frame.\n",
    " #       X.drop(X[X['GarageYrBlt'] < X['YearBuilt']].index, inplace=True)\n",
    "\n",
    "        X.drop('MasVnrArea', axis=1, inplace=True)\n",
    "        X.drop('MasVnrType', axis=1, inplace=True)\n",
    "        X = dropFeaturesWithNulls(X, getCatFeaturesWithNulls(X))\n",
    "        \n",
    "        lst_featurs = ['BsmtQual', 'BsmtExposure', 'BsmtFinType1', 'BsmtFinType2', 'GarageType', 'GarageFinish', 'GarageQual', 'GarageCond']\n",
    "        X = fillNAwithBlank(X, lst_featurs)\n",
    "        \n",
    "        lst_features_bsmt = ['BsmtQual', 'BsmtExposure', 'BsmtFinType1', 'BsmtFinType2']\n",
    "        condition_bsmt = formatCondition(lst_features_bsmt)\n",
    "        X = X.apply(lambda row: conditionBasedImputation(row, condition_bsmt, lst_features_bsmt), axis=1)\n",
    "        \n",
    "        lst_features_garag = ['GarageType', 'GarageFinish', 'GarageQual', 'GarageCond']\n",
    "        condition_garag = formatCondition(lst_features_garag)\n",
    "        X = X.apply(lambda row: conditionBasedImputation(row, condition_garag, lst_features_garag), axis=1)\n",
    "\n",
    "        X.drop(X[X.Electrical.isnull()].index, inplace=True)\n",
    "        X.drop('FireplaceQu', axis = 1, inplace = True)\n",
    "        return X"
   ]
  },
  {
   "cell_type": "code",
   "execution_count": 38,
   "metadata": {
    "collapsed": true
   },
   "outputs": [],
   "source": [
    "fillna_cleanup_pipeline = Pipeline([\n",
    "         ('fillNAandCleanUp', FillNAandCleanUp())\n",
    "      ])"
   ]
  },
  {
   "cell_type": "code",
   "execution_count": 39,
   "metadata": {
    "collapsed": true
   },
   "outputs": [],
   "source": [
    "class CatFeatureCleanUpAndEncode(BaseEstimator, TransformerMixin):\n",
    "    def __init__(self, lst_categories, feature, replace_val = None, lblEncode= None):\n",
    "        self.lst_categories = lst_categories\n",
    "        self.feature = feature\n",
    "        if replace_val:\n",
    "            self.replace_val = replace_val\n",
    "        else:\n",
    "            self.replace_val = 'OO_TH_ER'\n",
    "            \n",
    "        if lblEncode == None:\n",
    "            self.lblEncode = True\n",
    "        else:\n",
    "            self.lblEncode = False\n",
    "            \n",
    "    def fit(self, X, y=None):\n",
    "        return self\n",
    "    def transform(self, X, y=None):\n",
    "        ser_non_cat_values = X[~ X[self.feature].isin(self.lst_categories)][self.feature]\n",
    "        if(ser_non_cat_values.shape[0] > 0):\n",
    "            X.loc[X[~ X[self.feature].isin(self.lst_categories)].index, self.feature] = self.replace_val\n",
    "        \n",
    "        # Convert to categorical feature\n",
    "        X[self.feature] = pd.Categorical(X[self.feature], categories=self.lst_categories)\n",
    "        \n",
    "        if self.lblEncode:\n",
    "            # Do label encoding\n",
    "            X[self.feature] = X[self.feature].cat.codes\n",
    "        else:\n",
    "            # Do One-Hot encoding\n",
    "            X = pd.get_dummies(X, columns=[self.feature], prefix=[self.feature], drop_first=True)\n",
    "        return X"
   ]
  },
  {
   "cell_type": "code",
   "execution_count": 40,
   "metadata": {
    "collapsed": true
   },
   "outputs": [],
   "source": [
    "lst_MSZoning_cat = ['A','C','FV','I','RH','RL','RP','RM']\n",
    "lst_Street_cat = ['Grvl','Pave']\n",
    "lst_LotShape_cat = ['Reg','IR1','IR2','IR3']\n",
    "lst_LandContour_cat = ['Lvl','Bnk','HLS','Low']\n",
    "lst_Utilities_cat = ['AllPub','NoSewr','NoSeWa','ELO']\n",
    "lst_LandSlope_cat = ['Gtl','Mod','Sev']\n",
    "lst_Condition1_cat = ['Artery','Feedr','Norm','RRNn','RRAn','PosN','PosA','RRNe','RRAe']\n",
    "lst_Condition2_cat = ['Artery','Feedr','Norm','RRNn','RRAn','PosN','PosA','RRNe','RRAe']\n",
    "lst_BldgType_cat = ['1Fam','2FmCon','Duplx','TwnhsE','TwnhsI']\n",
    "lst_HouseStyle_cat = ['1Story','1.5Fin','1.5Unf','2Story','2.5Fin','2.5Unf','SFoyer','SLvl']\n",
    "lst_RoofStyle_cat = ['Flat','Gable','Gambrel','Hip','Mansard','Shed']\n",
    "lst_RoofMatl_cat = ['ClyTile','CompShg','Membran','Metal','Roll','Tar&Grv','WdShake','WdShngl']\n",
    "lst_Exterior1st_cat = ['AsbShng','AsphShn','BrkComm','BrkFace','CBlock','CemntBd','HdBoard','ImStucc','MetalSd','Other','Plywood',\\\n",
    "                       'PreCast','Stone','Stucco','VinylSd','Wd Sdng','WdShing']\n",
    "lst_Exterior2nd_cat = ['AsbShng','AsphShn','BrkComm','BrkFace','CBlock','CemntBd','HdBoard','ImStucc','MetalSd','Other','Plywood',\\\n",
    "                       'PreCast','Stone','Stucco','VinylSd','Wd Sdng','WdShing']\n",
    "lst_ExterQual_cat = ['Ex','Gd','TA','Fa','Po']\n",
    "lst_ExterCond_cat = ['Ex','Gd','TA','Fa','Po']\n",
    "lst_Foundation_cat = ['BrkTil','CBlock','PConc','Slab','Stone','Wood']\n",
    "lst_BsmtQual_cat = ['Ex','Gd','TA','Fa','Po','NA']\n",
    "lst_BsmtCond_cat = ['Ex','Gd','TA','Fa','Po','NA']\n",
    "lst_BsmtExposure_cat = ['Gd','Av','Mn','No','NA'] \n",
    "lst_BsmtFinType1_cat = ['GLQ','ALQ','BLQ','Rec','LwQ','Unf','NA']\n",
    "lst_BsmtFinType2_cat = ['GLQ','ALQ','BLQ','Rec','LwQ','Unf','NA']\n",
    "lst_Heating_cat = ['Floor','GasA','GasW','Grav','OthW','Wall']\n",
    "lst_HeatingQC_cat = ['Ex','Gd','TA','Fa','Po']\n",
    "lst_CentralAir_cat = ['N','Y']\n",
    "lst_Electrical_cat = ['SBrkr','FuseA','FuseF','FuseP','Mix']\n",
    "lst_KitchenQual_cat = ['SBrkr','FuseA','FuseF','FuseP','Mix']\n",
    "lst_KitchenQual_cat = ['Ex','Gd','TA','Fa','Po']\n",
    "lst_Functional_cat = ['Typ','Min1','Min2','Mod','Maj1','Maj2','Sev','Sal']\n",
    "lst_GarageType_cat = ['2Types','Attchd','Basment','BuiltIn','CarPort','Detchd','NA']\n",
    "lst_GarageFinish_cat = ['Fin','RFn','Unf','NA']\n",
    "lst_GarageQual_cat = ['Ex','Gd','TA','Fa','Po','NA']\n",
    "lst_GarageCond_cat = ['Ex','Gd','TA','Fa','Po','NA']\n",
    "lst_PavedDrive_cat = ['Y','P','N']\n",
    "lst_SaleType_cat = ['WD ','CWD','VWD','New','COD','Con','ConLw','ConLI','ConLD','Oth']\n",
    "lst_SaleCondition_cat = ['Normal','Abnorml','AdjLand','Alloca','Family','Partial']\n",
    "                      \n",
    "                      \n",
    "                      \n",
    "lst_LotConfig_cat = ['Inside','Corner','CulDSac','FR2','FR3']\n",
    "lst_Neighborhood_cat = ['Blmngtn','Blueste','BrDale','BrkSide','ClearCr','CollgCr','Crawfor',\\\n",
    "                        'Edwards','Gilbert','IDOTRR','MeadowV','Mitchel','Names','NoRidge',\\\n",
    "                        'NPkVill','NridgHt','NWAmes','OldTown','SWISU','Sawyer','SawyerW',\\\n",
    "                        'Somerst','StoneBr','Timber','Veenker']"
   ]
  },
  {
   "cell_type": "code",
   "execution_count": 41,
   "metadata": {
    "collapsed": true
   },
   "outputs": [],
   "source": [
    "cat_feature_encod_pipeline = Pipeline([\n",
    "        ('lst_MSZoning_cat', CatFeatureCleanUpAndEncode(lst_MSZoning_cat, 'MSZoning', 'C')),\n",
    "        ('lst_Street_cat', CatFeatureCleanUpAndEncode(lst_Street_cat, 'Street')),\n",
    "        ('lst_LotShape_cat', CatFeatureCleanUpAndEncode(lst_LotShape_cat, 'LotShape')),\n",
    "        ('lst_LandContour_cat', CatFeatureCleanUpAndEncode(lst_LandContour_cat, 'LandContour')),\n",
    "        ('lst_Utilities_cat', CatFeatureCleanUpAndEncode(lst_Utilities_cat, 'Utilities')),\n",
    "        ('lst_LandSlope_cat', CatFeatureCleanUpAndEncode(lst_LandSlope_cat, 'LandSlope')),\n",
    "        ('lst_Condition1_cat', CatFeatureCleanUpAndEncode(lst_Condition1_cat, 'Condition1')),    \n",
    "        ('lst_Condition2_cat', CatFeatureCleanUpAndEncode(lst_Condition2_cat, 'Condition2')),\n",
    "        ('lst_BldgType_cat', CatFeatureCleanUpAndEncode(lst_BldgType_cat, 'BldgType')),    \n",
    "        ('lst_HouseStyle_cat', CatFeatureCleanUpAndEncode(lst_HouseStyle_cat, 'HouseStyle')),\n",
    "        ('lst_RoofStyle_cat', CatFeatureCleanUpAndEncode(lst_RoofStyle_cat, 'RoofStyle')),\n",
    "        ('lst_RoofMatl_cat', CatFeatureCleanUpAndEncode(lst_RoofMatl_cat, 'RoofMatl')),\n",
    "        ('lst_Exterior1st_cat', CatFeatureCleanUpAndEncode(lst_Exterior1st_cat, 'Exterior1st')),    \n",
    "        ('lst_Exterior2nd_cat', CatFeatureCleanUpAndEncode(lst_Exterior2nd_cat, 'Exterior2nd')),\n",
    "        ('lst_ExterQual_cat', CatFeatureCleanUpAndEncode(lst_ExterQual_cat, 'ExterQual')), \n",
    "        ('lst_ExterCond_cat', CatFeatureCleanUpAndEncode(lst_ExterCond_cat, 'ExterCond')),\n",
    "        ('lst_Foundation_cat', CatFeatureCleanUpAndEncode(lst_Foundation_cat, 'Foundation')),\n",
    "        ('lst_BsmtQual_cat', CatFeatureCleanUpAndEncode(lst_BsmtQual_cat, 'BsmtQual')),\n",
    "        ('lst_BsmtCond_cat', CatFeatureCleanUpAndEncode(lst_BsmtCond_cat, 'BsmtCond')),    \n",
    "        ('lst_BsmtExposure_cat', CatFeatureCleanUpAndEncode(lst_BsmtExposure_cat, 'BsmtExposure')),\n",
    "        ('lst_BsmtFinType1_cat', CatFeatureCleanUpAndEncode(lst_BsmtFinType1_cat, 'BsmtFinType1')), \n",
    "        ('lst_BsmtFinType2_cat', CatFeatureCleanUpAndEncode(lst_BsmtFinType2_cat, 'BsmtFinType2')),\n",
    "        ('lst_Heating_cat', CatFeatureCleanUpAndEncode(lst_Heating_cat, 'Heating')),\n",
    "        ('lst_HeatingQC_cat', CatFeatureCleanUpAndEncode(lst_HeatingQC_cat, 'HeatingQC')),\n",
    "        ('lst_CentralAir_cat', CatFeatureCleanUpAndEncode(lst_CentralAir_cat, 'CentralAir')),\n",
    "        ('lst_Electrical_cat', CatFeatureCleanUpAndEncode(lst_Electrical_cat, 'Electrical')),    \n",
    "        ('lst_KitchenQual_cat', CatFeatureCleanUpAndEncode(lst_KitchenQual_cat, 'KitchenQual')),\n",
    "        ('lst_Functional_cat', CatFeatureCleanUpAndEncode(lst_Functional_cat, 'Functional')), \n",
    "        ('lst_GarageType_cat', CatFeatureCleanUpAndEncode(lst_GarageType_cat, 'GarageType')),\n",
    "        ('lst_GarageFinish_cat', CatFeatureCleanUpAndEncode(lst_GarageFinish_cat, 'GarageFinish')),\n",
    "        ('lst_GarageQual_cat', CatFeatureCleanUpAndEncode(lst_GarageQual_cat, 'GarageQual')),\n",
    "        ('lst_GarageCond_cat', CatFeatureCleanUpAndEncode(lst_GarageCond_cat, 'GarageCond')),    \n",
    "        ('lst_PavedDrive_cat', CatFeatureCleanUpAndEncode(lst_PavedDrive_cat, 'PavedDrive')),\n",
    "        ('lst_SaleType_cat', CatFeatureCleanUpAndEncode(lst_SaleType_cat, 'SaleType')), \n",
    "        ('lst_SaleCondition_cat', CatFeatureCleanUpAndEncode(lst_SaleCondition_cat, 'SaleCondition')),\n",
    "    \n",
    "        ('lst_LotConfig_cat', CatFeatureCleanUpAndEncode(lst_LotConfig_cat, 'LotConfig', lblEncode= False)),\n",
    "        ('lst_Neighborhood_cat', CatFeatureCleanUpAndEncode(lst_Neighborhood_cat, 'Neighborhood', lblEncode=False))\n",
    "      ]) "
   ]
  },
  {
   "cell_type": "code",
   "execution_count": 42,
   "metadata": {},
   "outputs": [],
   "source": [
    "kagle_test_data = fillna_cleanup_pipeline.fit_transform(kagle_test_data)\n",
    "kagle_test_data = cat_feature_encod_pipeline.transform(kagle_test_data)"
   ]
  },
  {
   "cell_type": "code",
   "execution_count": 43,
   "metadata": {},
   "outputs": [
    {
     "data": {
      "text/plain": [
       "BsmtFinSF1      float64\n",
       "BsmtFinSF2      float64\n",
       "BsmtUnfSF       float64\n",
       "TotalBsmtSF     float64\n",
       "BsmtFullBath    float64\n",
       "BsmtHalfBath    float64\n",
       "GarageCars      float64\n",
       "GarageArea      float64\n",
       "dtype: object"
      ]
     },
     "execution_count": 43,
     "metadata": {},
     "output_type": "execute_result"
    }
   ],
   "source": [
    "kagle_test_data[getMissingDataFeatures(kagle_test_data)].dtypes"
   ]
  },
  {
   "cell_type": "code",
   "execution_count": 44,
   "metadata": {
    "collapsed": true
   },
   "outputs": [],
   "source": [
    "kagle_test_data = kagle_test_data.fillna(value=kagle_test_data.mean())"
   ]
  },
  {
   "cell_type": "code",
   "execution_count": 45,
   "metadata": {},
   "outputs": [
    {
     "name": "stdout",
     "output_type": "stream",
     "text": [
      "['MSSubClass', 'MSZoning', 'LotFrontage', 'LotArea', 'Street', 'LotShape', 'LandContour', 'Utilities', 'LandSlope', 'Condition1', 'Condition2', 'BldgType', 'HouseStyle', 'OverallQual', 'OverallCond', 'YearBuilt', 'YearRemodAdd', 'RoofStyle', 'RoofMatl', 'Exterior1st', 'Exterior2nd', 'ExterQual', 'ExterCond', 'Foundation', 'BsmtQual', 'BsmtCond', 'BsmtExposure', 'BsmtFinType1', 'BsmtFinSF1', 'BsmtFinType2', 'BsmtFinSF2', 'BsmtUnfSF', 'TotalBsmtSF', 'Heating', 'HeatingQC', 'CentralAir', 'Electrical', 'FstFlrSF', 'SecndFlrSF', 'LowQualFinSF', 'GrLivArea', 'BsmtFullBath', 'BsmtHalfBath', 'FullBath', 'HalfBath', 'BedroomAbvGr', 'KitchenAbvGr', 'KitchenQual', 'TotRmsAbvGrd', 'Functional', 'Fireplaces', 'GarageType', 'GarageYrBlt', 'GarageFinish', 'GarageCars', 'GarageArea', 'GarageQual', 'GarageCond', 'PavedDrive', 'WoodDeckSF', 'OpenPorchSF', 'EnclosedPorch', 'ThreeSsnPorch', 'ScreenPorch', 'PoolArea', 'MiscVal', 'MoSold', 'YrSold', 'SaleType', 'SaleCondition', 'LotConfig_Corner', 'LotConfig_CulDSac', 'LotConfig_FR2', 'LotConfig_FR3', 'Neighborhood_Blueste', 'Neighborhood_BrDale', 'Neighborhood_BrkSide', 'Neighborhood_ClearCr', 'Neighborhood_CollgCr', 'Neighborhood_Crawfor', 'Neighborhood_Edwards', 'Neighborhood_Gilbert', 'Neighborhood_IDOTRR', 'Neighborhood_MeadowV', 'Neighborhood_Mitchel', 'Neighborhood_Names', 'Neighborhood_NoRidge', 'Neighborhood_NPkVill', 'Neighborhood_NridgHt', 'Neighborhood_NWAmes', 'Neighborhood_OldTown', 'Neighborhood_SWISU', 'Neighborhood_Sawyer', 'Neighborhood_SawyerW', 'Neighborhood_Somerst', 'Neighborhood_StoneBr', 'Neighborhood_Timber', 'Neighborhood_Veenker']\n"
     ]
    }
   ],
   "source": [
    "X_features  = [feature for feature in kagle_test_data.columns if feature not in ['SalePrice', 'Id']]\n",
    "print(X_features)"
   ]
  },
  {
   "cell_type": "code",
   "execution_count": 46,
   "metadata": {
    "collapsed": true
   },
   "outputs": [],
   "source": [
    "import pickle\n",
    "# load the model from disk\n",
    "filename = '../models/lm_model_housing_data.sav'\n",
    "loaded_lm_model = pickle.load(open(filename, 'rb'))"
   ]
  },
  {
   "cell_type": "code",
   "execution_count": 47,
   "metadata": {
    "collapsed": true
   },
   "outputs": [],
   "source": [
    "X_kagle_test = kagle_test_data[X_features].values"
   ]
  },
  {
   "cell_type": "code",
   "execution_count": 48,
   "metadata": {},
   "outputs": [
    {
     "data": {
      "text/plain": [
       "(1459, 98)"
      ]
     },
     "execution_count": 48,
     "metadata": {},
     "output_type": "execute_result"
    }
   ],
   "source": [
    "X_kagle_test.shape"
   ]
  },
  {
   "cell_type": "code",
   "execution_count": 49,
   "metadata": {},
   "outputs": [],
   "source": [
    "pred_X_kagle_test = loaded_lm_model.predict(X_kagle_test)"
   ]
  },
  {
   "cell_type": "code",
   "execution_count": 50,
   "metadata": {},
   "outputs": [
    {
     "data": {
      "text/plain": [
       "(1459,)"
      ]
     },
     "execution_count": 50,
     "metadata": {},
     "output_type": "execute_result"
    }
   ],
   "source": [
    "pred_X_kagle_test.shape"
   ]
  },
  {
   "cell_type": "code",
   "execution_count": 51,
   "metadata": {
    "collapsed": true
   },
   "outputs": [],
   "source": [
    "pred_X_kagle_test = pred_X_kagle_test.reshape(-1,1)"
   ]
  },
  {
   "cell_type": "code",
   "execution_count": 57,
   "metadata": {},
   "outputs": [
    {
     "data": {
      "text/plain": [
       "(1459, 1)"
      ]
     },
     "execution_count": 57,
     "metadata": {},
     "output_type": "execute_result"
    }
   ],
   "source": [
    "pred_X_kagle_test.shape"
   ]
  },
  {
   "cell_type": "code",
   "execution_count": 52,
   "metadata": {},
   "outputs": [
    {
     "data": {
      "text/plain": [
       "(1459,)"
      ]
     },
     "execution_count": 52,
     "metadata": {},
     "output_type": "execute_result"
    }
   ],
   "source": [
    "kagle_test_data.Id.values.shape"
   ]
  },
  {
   "cell_type": "code",
   "execution_count": 53,
   "metadata": {
    "collapsed": true
   },
   "outputs": [],
   "source": [
    "kagle_test_data_Id = kagle_test_data.Id.values.reshape(-1,1)"
   ]
  },
  {
   "cell_type": "code",
   "execution_count": 59,
   "metadata": {},
   "outputs": [
    {
     "data": {
      "text/plain": [
       "(1459, 2)"
      ]
     },
     "execution_count": 59,
     "metadata": {},
     "output_type": "execute_result"
    }
   ],
   "source": [
    "np_submit_format = np.hstack((kagle_test_data_Id, pred_X_kagle_test))\n",
    "np_submit_format.shape"
   ]
  },
  {
   "cell_type": "code",
   "execution_count": 60,
   "metadata": {
    "collapsed": true
   },
   "outputs": [],
   "source": [
    "df_submit_format = pd.DataFrame(np_submit_format, columns=['Id', 'SalePrice' ])\n",
    "df_submit_format.Id = np.int32(df_submit_format.Id)"
   ]
  },
  {
   "cell_type": "code",
   "execution_count": 61,
   "metadata": {
    "collapsed": true
   },
   "outputs": [],
   "source": [
    "df_submit_format.to_csv('../data/dj_submission.csv', index=False)"
   ]
  }
 ],
 "metadata": {
  "kernelspec": {
   "display_name": "Python 3",
   "language": "python",
   "name": "python3"
  },
  "language_info": {
   "codemirror_mode": {
    "name": "ipython",
    "version": 3
   },
   "file_extension": ".py",
   "mimetype": "text/x-python",
   "name": "python",
   "nbconvert_exporter": "python",
   "pygments_lexer": "ipython3",
   "version": "3.6.1"
  }
 },
 "nbformat": 4,
 "nbformat_minor": 2
}
