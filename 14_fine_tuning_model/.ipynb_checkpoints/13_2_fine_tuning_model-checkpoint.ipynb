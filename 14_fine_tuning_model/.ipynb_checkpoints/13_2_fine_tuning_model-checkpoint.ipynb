{
 "cells": [
  {
   "cell_type": "markdown",
   "metadata": {},
   "source": [
    "### Fine Tune Gradient Descent on Housing Data"
   ]
  },
  {
   "cell_type": "code",
   "execution_count": 1,
   "metadata": {
    "collapsed": true
   },
   "outputs": [],
   "source": [
    "import pandas as pd\n",
    "import numpy as np\n",
    "import matplotlib.pyplot as plt\n",
    "% matplotlib inline\n",
    "from sklearn.base import BaseEstimator, TransformerMixin\n",
    "from sklearn.pipeline import Pipeline"
   ]
  },
  {
   "cell_type": "code",
   "execution_count": 2,
   "metadata": {
    "collapsed": true
   },
   "outputs": [],
   "source": [
    "housing_train_set = pd.read_csv('../data/cleaned_housing_train_set.csv')\n",
    "X_features  = [feature for feature in housing_train_set.columns if feature not in ['SalePrice', 'Id']]\n",
    "y_feature = 'SalePrice'"
   ]
  },
  {
   "cell_type": "code",
   "execution_count": 3,
   "metadata": {
    "collapsed": true
   },
   "outputs": [],
   "source": [
    "class InputOutputFeatureSelector(BaseEstimator, TransformerMixin):\n",
    "    def __init__(self, in_attr_list, our_feature):\n",
    "        self.in_attr_list = in_attr_list\n",
    "        self.our_feature = our_feature\n",
    "    def fit(self, X, y=None):\n",
    "        return self\n",
    "    def transform(self, X):\n",
    "        return X[self.in_attr_list].values, X[self.our_feature].values"
   ]
  },
  {
   "cell_type": "code",
   "execution_count": 4,
   "metadata": {
    "collapsed": true
   },
   "outputs": [],
   "source": [
    "pipeline_inout_features = Pipeline([\n",
    "    ('inputOutputFeatureSelector', InputOutputFeatureSelector(X_features, y_feature))\n",
    "])"
   ]
  },
  {
   "cell_type": "code",
   "execution_count": 5,
   "metadata": {
    "collapsed": true
   },
   "outputs": [],
   "source": [
    "X_train, y_train = pipeline_inout_features.transform(housing_train_set)"
   ]
  },
  {
   "cell_type": "code",
   "execution_count": 6,
   "metadata": {},
   "outputs": [
    {
     "data": {
      "text/plain": [
       "(1149,)"
      ]
     },
     "execution_count": 6,
     "metadata": {},
     "output_type": "execute_result"
    }
   ],
   "source": [
    "y_train.shape"
   ]
  },
  {
   "cell_type": "markdown",
   "metadata": {},
   "source": [
    "#####  Feature Scaling"
   ]
  },
  {
   "cell_type": "code",
   "execution_count": 7,
   "metadata": {
    "collapsed": true
   },
   "outputs": [],
   "source": [
    "from sklearn.preprocessing import StandardScaler\n",
    "sScaler = StandardScaler()\n",
    "X_train = sScaler.fit_transform(X_train)"
   ]
  },
  {
   "cell_type": "code",
   "execution_count": 8,
   "metadata": {},
   "outputs": [
    {
     "data": {
      "text/plain": [
       "SGDRegressor(alpha=0.0001, average=False, epsilon=0.1, eta0=0.01,\n",
       "       fit_intercept=True, l1_ratio=0.15, learning_rate='invscaling',\n",
       "       loss='squared_loss', n_iter=5, penalty='l2', power_t=0.25,\n",
       "       random_state=None, shuffle=True, verbose=0, warm_start=False)"
      ]
     },
     "execution_count": 8,
     "metadata": {},
     "output_type": "execute_result"
    }
   ],
   "source": [
    "from sklearn.linear_model import SGDRegressor\n",
    "sgd_model = SGDRegressor()\n",
    "sgd_model.fit(X_train, y_train)"
   ]
  },
  {
   "cell_type": "code",
   "execution_count": 9,
   "metadata": {},
   "outputs": [
    {
     "name": "stdout",
     "output_type": "stream",
     "text": [
      "Root Mean Squared Error X Train :  31890.7962095\n",
      "R-Squre X Train :  0.849303051335\n"
     ]
    }
   ],
   "source": [
    "from sklearn.metrics import mean_squared_error, r2_score\n",
    "pred_X_train = sgd_model.predict(X_train)\n",
    "mse_X_train =  mean_squared_error(y_train, pred_X_train)\n",
    "r2_X_train = r2_score(y_train, pred_X_train)\n",
    "print('Root Mean Squared Error X Train : ', np.sqrt(mse_X_train))\n",
    "print('R-Squre X Train : ', r2_X_train)"
   ]
  },
  {
   "cell_type": "markdown",
   "metadata": {},
   "source": [
    "#### K - Flod Cross Validation"
   ]
  },
  {
   "cell_type": "code",
   "execution_count": 10,
   "metadata": {
    "collapsed": true
   },
   "outputs": [],
   "source": [
    "def display_scores(scores):\n",
    "    print(\"Scores:\", scores)\n",
    "    print(\"Mean:\", scores.mean())\n",
    "    print(\"Standard deviation:\", scores.std())"
   ]
  },
  {
   "cell_type": "code",
   "execution_count": 11,
   "metadata": {},
   "outputs": [
    {
     "name": "stdout",
     "output_type": "stream",
     "text": [
      "Scores: [ 25286.69576161  29171.67491434  22176.63206903  38855.2798838\n",
      "  46134.56964674  29862.28702037  32586.92715591  30380.5352716\n",
      "  63951.64960174  28861.96027258]\n",
      "Mean: 34726.8211598\n",
      "Standard deviation: 11663.1213274\n"
     ]
    }
   ],
   "source": [
    "from sklearn.model_selection import cross_val_score\n",
    "\n",
    "housing_price_scores = cross_val_score(sgd_model, X_train, y_train,\n",
    "                                scoring=\"neg_mean_squared_error\", cv=10)\n",
    "housing_price_rmse_scores = np.sqrt(-housing_price_scores)\n",
    "display_scores(housing_price_rmse_scores)"
   ]
  },
  {
   "cell_type": "markdown",
   "metadata": {},
   "source": [
    "### We will fine tune above model using GridSearchCV"
   ]
  },
  {
   "cell_type": "code",
   "execution_count": 12,
   "metadata": {},
   "outputs": [
    {
     "data": {
      "text/plain": [
       "GridSearchCV(cv=5, error_score='raise',\n",
       "       estimator=SGDRegressor(alpha=0.0001, average=False, epsilon=0.1, eta0=0.01,\n",
       "       fit_intercept=True, l1_ratio=0.15, learning_rate='invscaling',\n",
       "       loss='squared_loss', n_iter=5, penalty='l2', power_t=0.25,\n",
       "       random_state=15, shuffle=True, verbose=0, warm_start=False),\n",
       "       fit_params={}, iid=True, n_jobs=1,\n",
       "       param_grid=[{'n_iter': [50, 100], 'eta0': [0.0001, 0.0003, 0.001, 0.003, 0.01, 0.03, 0.1, 0.3], 'alpha': [0.0001, 0.0003, 0.001, 0.003, 0.01, 0.03, 0.1, 0.3], 'penalty': ['l1', 'l2', 'elasticnet']}],\n",
       "       pre_dispatch='2*n_jobs', refit=True, return_train_score=True,\n",
       "       scoring='neg_mean_squared_error', verbose=0)"
      ]
     },
     "execution_count": 12,
     "metadata": {},
     "output_type": "execute_result"
    }
   ],
   "source": [
    "from sklearn.model_selection import GridSearchCV\n",
    "\n",
    "# \"n_iter\" is the parameter takes the number of epochs\n",
    "\n",
    "param_grid = [\n",
    "    {'n_iter': [50, 100],\n",
    "    'eta0': [0.0001, 0.0003, 0.001, 0.003, 0.01, 0.03, 0.1, 0.3],\n",
    "    'alpha': [0.0001, 0.0003, 0.001, 0.003, 0.01, 0.03, 0.1, 0.3],\n",
    "    'penalty': ['l1','l2', 'elasticnet']}\n",
    "  ]\n",
    "\n",
    "grd_sgd_model = SGDRegressor(random_state=15)\n",
    "grid_search = GridSearchCV(grd_sgd_model, param_grid, cv=5,\n",
    "                           scoring='neg_mean_squared_error')\n",
    "grid_search.fit(X_train, y_train)"
   ]
  },
  {
   "cell_type": "code",
   "execution_count": 13,
   "metadata": {},
   "outputs": [
    {
     "data": {
      "text/plain": [
       "{'alpha': 0.3, 'eta0': 0.001, 'n_iter': 100, 'penalty': 'elasticnet'}"
      ]
     },
     "execution_count": 13,
     "metadata": {},
     "output_type": "execute_result"
    }
   ],
   "source": [
    "grid_search.best_params_"
   ]
  },
  {
   "cell_type": "code",
   "execution_count": 14,
   "metadata": {},
   "outputs": [
    {
     "data": {
      "text/plain": [
       "SGDRegressor(alpha=0.3, average=False, epsilon=0.1, eta0=0.001,\n",
       "       fit_intercept=True, l1_ratio=0.15, learning_rate='invscaling',\n",
       "       loss='squared_loss', n_iter=100, penalty='elasticnet', power_t=0.25,\n",
       "       random_state=15, shuffle=True, verbose=0, warm_start=False)"
      ]
     },
     "execution_count": 14,
     "metadata": {},
     "output_type": "execute_result"
    }
   ],
   "source": [
    "grid_search.best_estimator_"
   ]
  },
  {
   "cell_type": "code",
   "execution_count": 15,
   "metadata": {},
   "outputs": [
    {
     "data": {
      "text/plain": [
       "SGDRegressor(alpha=0.3, average=False, epsilon=0.1, eta0=0.001,\n",
       "       fit_intercept=True, l1_ratio=0.15, learning_rate='invscaling',\n",
       "       loss='squared_loss', n_iter=100, penalty='elasticnet', power_t=0.25,\n",
       "       random_state=15, shuffle=True, verbose=0, warm_start=False)"
      ]
     },
     "execution_count": 15,
     "metadata": {},
     "output_type": "execute_result"
    }
   ],
   "source": [
    "best_sgd_model = SGDRegressor(alpha=0.3, average=False, epsilon=0.1, eta0=0.001,\n",
    "       fit_intercept=True, l1_ratio=0.15, learning_rate='invscaling',\n",
    "       loss='squared_loss', n_iter=100, penalty='elasticnet', power_t=0.25,\n",
    "       random_state=15, shuffle=True, verbose=0, warm_start=False)\n",
    "best_sgd_model.fit(X_train, y_train)"
   ]
  },
  {
   "cell_type": "code",
   "execution_count": 16,
   "metadata": {},
   "outputs": [
    {
     "data": {
      "text/plain": [
       "array([ -4.54297910e+03,   1.31730613e+02,  -1.76226680e+02,\n",
       "         2.28469670e+03,   1.17527527e+03,  -8.21830829e+02,\n",
       "         9.18654879e+02,  -1.52505539e+03,   7.40793613e+02,\n",
       "        -8.25253488e+02,  -2.09490684e+03,  -1.94994811e+03,\n",
       "         2.89680347e+02,   1.16375478e+04,   3.10482357e+03,\n",
       "         2.61606465e+03,   2.67896752e+03,   3.20881001e+03,\n",
       "         4.50570285e+03,  -1.13499696e+03,  -1.38968328e+02,\n",
       "        -5.69633589e+03,   4.08652717e+02,   1.32093703e+03,\n",
       "         0.00000000e+00,   1.38877710e+02,   0.00000000e+00,\n",
       "         0.00000000e+00,   4.24064652e+03,   0.00000000e+00,\n",
       "         4.92532063e+02,  -1.99071287e+02,   4.40079612e+03,\n",
       "         3.41103048e+02,  -2.42857473e+03,  -4.68144514e+00,\n",
       "         6.83003899e+02,   5.50344933e+03,   5.45628028e+03,\n",
       "        -9.12170724e+01,   8.54992366e+03,   2.98453870e+03,\n",
       "         1.36699830e+03,   5.40006912e+03,   1.95876270e+03,\n",
       "        -1.35875088e+03,  -3.39539997e+03,  -5.87494261e+03,\n",
       "         6.08528397e+03,  -2.66794580e+03,   4.54970276e+03,\n",
       "         0.00000000e+00,   2.52458275e+03,   0.00000000e+00,\n",
       "         5.85795069e+03,   2.59107972e+03,   0.00000000e+00,\n",
       "         0.00000000e+00,  -1.33736765e+02,   3.38105080e+03,\n",
       "         9.87163700e+02,  -1.04433630e+02,   6.80375827e+02,\n",
       "         2.73617062e+03,  -6.75258907e+02,   2.90876900e+02,\n",
       "        -1.40605742e+03,  -5.43852373e+02,   1.53136110e+03,\n",
       "         2.48916899e+03,  -1.36503775e+02,   2.90165059e+03,\n",
       "        -1.09985004e+03,  -6.40647182e+02,  -3.84737820e+02,\n",
       "        -8.71053468e+02,   1.22411598e+03,  -2.64382031e+02,\n",
       "        -6.20539412e+02,   3.79369299e+03,  -2.74547509e+03,\n",
       "        -1.56300031e+03,  -4.90327535e+02,  -2.75757047e+02,\n",
       "        -9.33554472e+02,   0.00000000e+00,   8.22138283e+03,\n",
       "        -4.52561383e+01,   8.75427051e+03,  -1.56895763e+03,\n",
       "        -2.10299317e+03,  -3.12367993e+02,  -8.51572984e+02,\n",
       "        -6.92830857e+02,   1.85338045e+03,   6.02709591e+03,\n",
       "         3.71006695e+02,   1.71704831e+03])"
      ]
     },
     "execution_count": 16,
     "metadata": {},
     "output_type": "execute_result"
    }
   ],
   "source": [
    "best_sgd_model.coef_"
   ]
  },
  {
   "cell_type": "code",
   "execution_count": 17,
   "metadata": {},
   "outputs": [
    {
     "name": "stdout",
     "output_type": "stream",
     "text": [
      "Root Mean Squared Error X Train :  31546.4850176\n",
      "R-Squre X Train :  0.852539505313\n"
     ]
    }
   ],
   "source": [
    "from sklearn.metrics import mean_squared_error, r2_score\n",
    "pred_X_train = best_sgd_model.predict(X_train)\n",
    "mse_X_train =  mean_squared_error(y_train, pred_X_train)\n",
    "r2_X_train = r2_score(y_train, pred_X_train)\n",
    "print('Root Mean Squared Error X Train : ', np.sqrt(mse_X_train))\n",
    "print('R-Squre X Train : ', r2_X_train)"
   ]
  },
  {
   "cell_type": "code",
   "execution_count": 18,
   "metadata": {
    "collapsed": true
   },
   "outputs": [],
   "source": [
    "housing_test_set = pd.read_csv('../data/cleaned_housing_test_set.csv')"
   ]
  },
  {
   "cell_type": "code",
   "execution_count": 19,
   "metadata": {
    "collapsed": true
   },
   "outputs": [],
   "source": [
    "X_test, y_test = pipeline_inout_features.transform(housing_test_set)"
   ]
  },
  {
   "cell_type": "code",
   "execution_count": 20,
   "metadata": {
    "collapsed": true
   },
   "outputs": [],
   "source": [
    "X_test = sScaler.transform(X_test)"
   ]
  },
  {
   "cell_type": "code",
   "execution_count": 21,
   "metadata": {},
   "outputs": [
    {
     "name": "stdout",
     "output_type": "stream",
     "text": [
      "Root Mean Squared Error X TEST :  24916.3196285\n",
      "R-Squre X TEST :  0.865496984798\n"
     ]
    }
   ],
   "source": [
    "pred_X_test = best_sgd_model.predict(X_test)\n",
    "mse_X_test =  mean_squared_error(y_test, pred_X_test)\n",
    "r2_X_test = r2_score(y_test, pred_X_test)\n",
    "print('Root Mean Squared Error X TEST : ', np.sqrt(mse_X_test))\n",
    "print('R-Squre X TEST : ', r2_X_test)"
   ]
  },
  {
   "cell_type": "markdown",
   "metadata": {},
   "source": [
    "### Learning Curve"
   ]
  },
  {
   "cell_type": "code",
   "execution_count": 22,
   "metadata": {
    "collapsed": true
   },
   "outputs": [],
   "source": [
    "from sklearn.metrics import mean_squared_error\n",
    "from sklearn.model_selection import train_test_split\n",
    "\n",
    "def plot_learning_curves(model, X, y):\n",
    "    X_train, X_val, y_train, y_val = train_test_split(X, y, test_size=0.2, random_state=10)\n",
    "    train_errors, val_errors = [], []\n",
    "    for m in range(1, len(X_train)):\n",
    "        model.fit(X_train[:m], y_train[:m])\n",
    "        y_train_predict = model.predict(X_train[:m])\n",
    "        y_val_predict = model.predict(X_val)\n",
    "        train_errors.append(mean_squared_error(y_train_predict, y_train[:m]))\n",
    "        val_errors.append(mean_squared_error(y_val_predict, y_val))\n",
    "\n",
    "    plt.plot(np.sqrt(train_errors), \"r-+\", linewidth=2, label=\"train\")\n",
    "    plt.plot(np.sqrt(val_errors), \"b-\", linewidth=3, label=\"val\")\n",
    "    plt.legend(loc=\"upper right\", fontsize=14)   \n",
    "    plt.xlabel(\"Training set size\", fontsize=14) \n",
    "    plt.ylabel(\"RMSE\", fontsize=14)              "
   ]
  },
  {
   "cell_type": "code",
   "execution_count": 23,
   "metadata": {},
   "outputs": [
    {
     "data": {
      "image/png": "[encoded data removed]",
      "text/plain": [
       "<matplotlib.figure.Figure at 0x247e83fc6a0>"
      ]
     },
     "metadata": {},
     "output_type": "display_data"
    }
   ],
   "source": [
    "plot_learning_curves(best_sgd_model, X_train, y_train)"
   ]
  }
 ],
 "metadata": {
  "kernelspec": {
   "display_name": "Python 3",
   "language": "python",
   "name": "python3"
  },
  "language_info": {
   "codemirror_mode": {
    "name": "ipython",
    "version": 3
   },
   "file_extension": ".py",
   "mimetype": "text/x-python",
   "name": "python",
   "nbconvert_exporter": "python",
   "pygments_lexer": "ipython3",
   "version": "3.6.1"
  }
 },
 "nbformat": 4,
 "nbformat_minor": 2
}
